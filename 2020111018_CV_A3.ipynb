{
  "nbformat": 4,
  "nbformat_minor": 0,
  "metadata": {
    "colab": {
      "provenance": [],
      "mount_file_id": "17Iuhhl6pBBo6NWOaQ4QwAVjqVf9ctV5f",
      "authorship_tag": "ABX9TyMYjY5r1HUBvxCzYRQBVimP",
      "include_colab_link": true
    },
    "kernelspec": {
      "name": "python3",
      "display_name": "Python 3"
    },
    "language_info": {
      "name": "python"
    },
    "accelerator": "GPU",
    "gpuClass": "standard",
    "widgets": {
      "application/vnd.jupyter.widget-state+json": {
        "bb29fa210db040d19132d9273e7aa94f": {
          "model_module": "@jupyter-widgets/controls",
          "model_name": "HBoxModel",
          "model_module_version": "1.5.0",
          "state": {
            "_dom_classes": [],
            "_model_module": "@jupyter-widgets/controls",
            "_model_module_version": "1.5.0",
            "_model_name": "HBoxModel",
            "_view_count": null,
            "_view_module": "@jupyter-widgets/controls",
            "_view_module_version": "1.5.0",
            "_view_name": "HBoxView",
            "box_style": "",
            "children": [
              "IPY_MODEL_1ffdf40752c747de964295825b8291d8",
              "IPY_MODEL_b23d4bc08cdc465daa2bdbcedccdea00",
              "IPY_MODEL_cdf3f219bea84c5cb9d60befb22a8cc7"
            ],
            "layout": "IPY_MODEL_37595d4ed8ab4168934e734cccd898bc"
          }
        },
        "1ffdf40752c747de964295825b8291d8": {
          "model_module": "@jupyter-widgets/controls",
          "model_name": "HTMLModel",
          "model_module_version": "1.5.0",
          "state": {
            "_dom_classes": [],
            "_model_module": "@jupyter-widgets/controls",
            "_model_module_version": "1.5.0",
            "_model_name": "HTMLModel",
            "_view_count": null,
            "_view_module": "@jupyter-widgets/controls",
            "_view_module_version": "1.5.0",
            "_view_name": "HTMLView",
            "description": "",
            "description_tooltip": null,
            "layout": "IPY_MODEL_f7099c8c5eae4f4a85ff5a08460ca031",
            "placeholder": "​",
            "style": "IPY_MODEL_786174323f964954bbe23322616ec540",
            "value": "100%"
          }
        },
        "b23d4bc08cdc465daa2bdbcedccdea00": {
          "model_module": "@jupyter-widgets/controls",
          "model_name": "FloatProgressModel",
          "model_module_version": "1.5.0",
          "state": {
            "_dom_classes": [],
            "_model_module": "@jupyter-widgets/controls",
            "_model_module_version": "1.5.0",
            "_model_name": "FloatProgressModel",
            "_view_count": null,
            "_view_module": "@jupyter-widgets/controls",
            "_view_module_version": "1.5.0",
            "_view_name": "ProgressView",
            "bar_style": "success",
            "description": "",
            "description_tooltip": null,
            "layout": "IPY_MODEL_e46d6e76ca734e97abd0e991fea393a9",
            "max": 170498071,
            "min": 0,
            "orientation": "horizontal",
            "style": "IPY_MODEL_9432fd243dfa446eaf12d81025f06f06",
            "value": 170498071
          }
        },
        "cdf3f219bea84c5cb9d60befb22a8cc7": {
          "model_module": "@jupyter-widgets/controls",
          "model_name": "HTMLModel",
          "model_module_version": "1.5.0",
          "state": {
            "_dom_classes": [],
            "_model_module": "@jupyter-widgets/controls",
            "_model_module_version": "1.5.0",
            "_model_name": "HTMLModel",
            "_view_count": null,
            "_view_module": "@jupyter-widgets/controls",
            "_view_module_version": "1.5.0",
            "_view_name": "HTMLView",
            "description": "",
            "description_tooltip": null,
            "layout": "IPY_MODEL_f75af7e386074235b9bf9b9d698f19c8",
            "placeholder": "​",
            "style": "IPY_MODEL_79cfdb9bb29849b9871c0a61f4b2893a",
            "value": " 170498071/170498071 [00:01&lt;00:00, 100701265.44it/s]"
          }
        },
        "37595d4ed8ab4168934e734cccd898bc": {
          "model_module": "@jupyter-widgets/base",
          "model_name": "LayoutModel",
          "model_module_version": "1.2.0",
          "state": {
            "_model_module": "@jupyter-widgets/base",
            "_model_module_version": "1.2.0",
            "_model_name": "LayoutModel",
            "_view_count": null,
            "_view_module": "@jupyter-widgets/base",
            "_view_module_version": "1.2.0",
            "_view_name": "LayoutView",
            "align_content": null,
            "align_items": null,
            "align_self": null,
            "border": null,
            "bottom": null,
            "display": null,
            "flex": null,
            "flex_flow": null,
            "grid_area": null,
            "grid_auto_columns": null,
            "grid_auto_flow": null,
            "grid_auto_rows": null,
            "grid_column": null,
            "grid_gap": null,
            "grid_row": null,
            "grid_template_areas": null,
            "grid_template_columns": null,
            "grid_template_rows": null,
            "height": null,
            "justify_content": null,
            "justify_items": null,
            "left": null,
            "margin": null,
            "max_height": null,
            "max_width": null,
            "min_height": null,
            "min_width": null,
            "object_fit": null,
            "object_position": null,
            "order": null,
            "overflow": null,
            "overflow_x": null,
            "overflow_y": null,
            "padding": null,
            "right": null,
            "top": null,
            "visibility": null,
            "width": null
          }
        },
        "f7099c8c5eae4f4a85ff5a08460ca031": {
          "model_module": "@jupyter-widgets/base",
          "model_name": "LayoutModel",
          "model_module_version": "1.2.0",
          "state": {
            "_model_module": "@jupyter-widgets/base",
            "_model_module_version": "1.2.0",
            "_model_name": "LayoutModel",
            "_view_count": null,
            "_view_module": "@jupyter-widgets/base",
            "_view_module_version": "1.2.0",
            "_view_name": "LayoutView",
            "align_content": null,
            "align_items": null,
            "align_self": null,
            "border": null,
            "bottom": null,
            "display": null,
            "flex": null,
            "flex_flow": null,
            "grid_area": null,
            "grid_auto_columns": null,
            "grid_auto_flow": null,
            "grid_auto_rows": null,
            "grid_column": null,
            "grid_gap": null,
            "grid_row": null,
            "grid_template_areas": null,
            "grid_template_columns": null,
            "grid_template_rows": null,
            "height": null,
            "justify_content": null,
            "justify_items": null,
            "left": null,
            "margin": null,
            "max_height": null,
            "max_width": null,
            "min_height": null,
            "min_width": null,
            "object_fit": null,
            "object_position": null,
            "order": null,
            "overflow": null,
            "overflow_x": null,
            "overflow_y": null,
            "padding": null,
            "right": null,
            "top": null,
            "visibility": null,
            "width": null
          }
        },
        "786174323f964954bbe23322616ec540": {
          "model_module": "@jupyter-widgets/controls",
          "model_name": "DescriptionStyleModel",
          "model_module_version": "1.5.0",
          "state": {
            "_model_module": "@jupyter-widgets/controls",
            "_model_module_version": "1.5.0",
            "_model_name": "DescriptionStyleModel",
            "_view_count": null,
            "_view_module": "@jupyter-widgets/base",
            "_view_module_version": "1.2.0",
            "_view_name": "StyleView",
            "description_width": ""
          }
        },
        "e46d6e76ca734e97abd0e991fea393a9": {
          "model_module": "@jupyter-widgets/base",
          "model_name": "LayoutModel",
          "model_module_version": "1.2.0",
          "state": {
            "_model_module": "@jupyter-widgets/base",
            "_model_module_version": "1.2.0",
            "_model_name": "LayoutModel",
            "_view_count": null,
            "_view_module": "@jupyter-widgets/base",
            "_view_module_version": "1.2.0",
            "_view_name": "LayoutView",
            "align_content": null,
            "align_items": null,
            "align_self": null,
            "border": null,
            "bottom": null,
            "display": null,
            "flex": null,
            "flex_flow": null,
            "grid_area": null,
            "grid_auto_columns": null,
            "grid_auto_flow": null,
            "grid_auto_rows": null,
            "grid_column": null,
            "grid_gap": null,
            "grid_row": null,
            "grid_template_areas": null,
            "grid_template_columns": null,
            "grid_template_rows": null,
            "height": null,
            "justify_content": null,
            "justify_items": null,
            "left": null,
            "margin": null,
            "max_height": null,
            "max_width": null,
            "min_height": null,
            "min_width": null,
            "object_fit": null,
            "object_position": null,
            "order": null,
            "overflow": null,
            "overflow_x": null,
            "overflow_y": null,
            "padding": null,
            "right": null,
            "top": null,
            "visibility": null,
            "width": null
          }
        },
        "9432fd243dfa446eaf12d81025f06f06": {
          "model_module": "@jupyter-widgets/controls",
          "model_name": "ProgressStyleModel",
          "model_module_version": "1.5.0",
          "state": {
            "_model_module": "@jupyter-widgets/controls",
            "_model_module_version": "1.5.0",
            "_model_name": "ProgressStyleModel",
            "_view_count": null,
            "_view_module": "@jupyter-widgets/base",
            "_view_module_version": "1.2.0",
            "_view_name": "StyleView",
            "bar_color": null,
            "description_width": ""
          }
        },
        "f75af7e386074235b9bf9b9d698f19c8": {
          "model_module": "@jupyter-widgets/base",
          "model_name": "LayoutModel",
          "model_module_version": "1.2.0",
          "state": {
            "_model_module": "@jupyter-widgets/base",
            "_model_module_version": "1.2.0",
            "_model_name": "LayoutModel",
            "_view_count": null,
            "_view_module": "@jupyter-widgets/base",
            "_view_module_version": "1.2.0",
            "_view_name": "LayoutView",
            "align_content": null,
            "align_items": null,
            "align_self": null,
            "border": null,
            "bottom": null,
            "display": null,
            "flex": null,
            "flex_flow": null,
            "grid_area": null,
            "grid_auto_columns": null,
            "grid_auto_flow": null,
            "grid_auto_rows": null,
            "grid_column": null,
            "grid_gap": null,
            "grid_row": null,
            "grid_template_areas": null,
            "grid_template_columns": null,
            "grid_template_rows": null,
            "height": null,
            "justify_content": null,
            "justify_items": null,
            "left": null,
            "margin": null,
            "max_height": null,
            "max_width": null,
            "min_height": null,
            "min_width": null,
            "object_fit": null,
            "object_position": null,
            "order": null,
            "overflow": null,
            "overflow_x": null,
            "overflow_y": null,
            "padding": null,
            "right": null,
            "top": null,
            "visibility": null,
            "width": null
          }
        },
        "79cfdb9bb29849b9871c0a61f4b2893a": {
          "model_module": "@jupyter-widgets/controls",
          "model_name": "DescriptionStyleModel",
          "model_module_version": "1.5.0",
          "state": {
            "_model_module": "@jupyter-widgets/controls",
            "_model_module_version": "1.5.0",
            "_model_name": "DescriptionStyleModel",
            "_view_count": null,
            "_view_module": "@jupyter-widgets/base",
            "_view_module_version": "1.2.0",
            "_view_name": "StyleView",
            "description_width": ""
          }
        }
      }
    }
  },
  "cells": [
    {
      "cell_type": "markdown",
      "metadata": {
        "id": "view-in-github",
        "colab_type": "text"
      },
      "source": [
        "<a href=\"https://colab.research.google.com/github/aneeshc12/CV-A3/blob/main/2020111018_CV_A3.ipynb\" target=\"_parent\"><img src=\"https://colab.research.google.com/assets/colab-badge.svg\" alt=\"Open In Colab\"/></a>"
      ]
    },
    {
      "cell_type": "code",
      "execution_count": 3,
      "metadata": {
        "id": "XCUYeqte5V5w"
      },
      "outputs": [],
      "source": [
        "# install and import\n",
        "import numpy as np\n",
        "import cv2\n",
        "import matplotlib.pyplot as plt\n",
        "\n",
        "import torch\n",
        "import torch.nn as nn\n",
        "import torchvision\n",
        "import torchvision.transforms as transforms"
      ]
    },
    {
      "cell_type": "markdown",
      "source": [
        "# Q1\n"
      ],
      "metadata": {
        "id": "Uzd4VzAg8nqD"
      }
    },
    {
      "cell_type": "code",
      "source": [
        "# declare hyperparameters\n",
        "batchSize = 64\n",
        "numClasses = 10\n",
        "lr = 0.001\n",
        "numEpochs = 20\n",
        "\n",
        "# cuda\n",
        "device = torch.device('cuda' if torch.cuda.is_available() else 'cpu')\n",
        "print(device)\n",
        "\n",
        "# import CIFAR-10 and create torch dataloaders\n",
        "allTransforms = transforms.Compose([transforms.Resize((32,32)),\n",
        "                                     transforms.ToTensor(),\n",
        "                                      # cifar 10 mean and std found online\n",
        "                                     transforms.Normalize(mean=[0.4914, 0.4822, 0.4465],\n",
        "                                                          std=[0.2023, 0.1994, 0.2010])\n",
        "                                     ])\n",
        "\n",
        "# declare datasets\n",
        "trainDataset = torchvision.datasets.CIFAR10(root = './data',\n",
        "                                             train = True,\n",
        "                                             transform = allTransforms,\n",
        "                                             download=True)\n",
        "\n",
        "testDataset = torchvision.datasets.CIFAR10(root = './data',\n",
        "                                             train = False,\n",
        "                                             transform = allTransforms,\n",
        "                                             download=True)\n",
        "\n",
        "# dataloaders\n",
        "trainLoader = torch.utils.data.DataLoader(trainDataset,\n",
        "                                          batch_size=batchSize,\n",
        "                                          shuffle=True)\n",
        "\n",
        "testLoader = torch.utils.data.DataLoader(testDataset,\n",
        "                                          batch_size=batchSize,\n",
        "                                          shuffle=True)\n",
        "\n",
        "\"\"\"\n",
        "# trainx: 50000 x 32 x 32 x 3\n",
        "# trainy: 50000 x 1\n",
        "\n",
        "# testx: 10000 x 32 x 32 x 3\n",
        "# testy: 10000 x 1\n",
        "\"\"\""
      ],
      "metadata": {
        "id": "xkQdY1Gr6ZEs",
        "colab": {
          "base_uri": "https://localhost:8080/",
          "height": 154,
          "referenced_widgets": [
            "bb29fa210db040d19132d9273e7aa94f",
            "1ffdf40752c747de964295825b8291d8",
            "b23d4bc08cdc465daa2bdbcedccdea00",
            "cdf3f219bea84c5cb9d60befb22a8cc7",
            "37595d4ed8ab4168934e734cccd898bc",
            "f7099c8c5eae4f4a85ff5a08460ca031",
            "786174323f964954bbe23322616ec540",
            "e46d6e76ca734e97abd0e991fea393a9",
            "9432fd243dfa446eaf12d81025f06f06",
            "f75af7e386074235b9bf9b9d698f19c8",
            "79cfdb9bb29849b9871c0a61f4b2893a"
          ]
        },
        "outputId": "6bb8aa75-00d3-4b05-b184-615ee5db5085"
      },
      "execution_count": 4,
      "outputs": [
        {
          "output_type": "stream",
          "name": "stdout",
          "text": [
            "cuda\n",
            "Downloading https://www.cs.toronto.edu/~kriz/cifar-10-python.tar.gz to ./data/cifar-10-python.tar.gz\n"
          ]
        },
        {
          "output_type": "display_data",
          "data": {
            "text/plain": [
              "  0%|          | 0/170498071 [00:00<?, ?it/s]"
            ],
            "application/vnd.jupyter.widget-view+json": {
              "version_major": 2,
              "version_minor": 0,
              "model_id": "bb29fa210db040d19132d9273e7aa94f"
            }
          },
          "metadata": {}
        },
        {
          "output_type": "stream",
          "name": "stdout",
          "text": [
            "Extracting ./data/cifar-10-python.tar.gz to ./data\n",
            "Files already downloaded and verified\n"
          ]
        },
        {
          "output_type": "execute_result",
          "data": {
            "text/plain": [
              "'\\n# trainx: 50000 x 32 x 32 x 3\\n# trainy: 50000 x 1\\n\\n# testx: 10000 x 32 x 32 x 3\\n# testy: 10000 x 1\\n'"
            ],
            "application/vnd.google.colaboratory.intrinsic+json": {
              "type": "string"
            }
          },
          "metadata": {},
          "execution_count": 4
        }
      ]
    },
    {
      "cell_type": "code",
      "source": [
        "features, labels = next(iter(trainLoader))\n",
        "for i, (img, label) in enumerate(zip(features, labels)):\n",
        "  plt.subplot(8,8, i + 1)\n",
        "  img = np.swapaxes(img, 0, 2)\n",
        "  img = np.swapaxes(img, 0, 1)\n",
        "\n",
        "  plt.imshow(img)\n",
        "\n",
        "plt.show()"
      ],
      "metadata": {
        "colab": {
          "base_uri": "https://localhost:8080/",
          "height": 1000
        },
        "id": "6BLF5en17USs",
        "outputId": "6ba799c4-7d9d-4a7c-f8f4-98b02e0db761"
      },
      "execution_count": 5,
      "outputs": [
        {
          "output_type": "stream",
          "name": "stderr",
          "text": [
            "WARNING:matplotlib.image:Clipping input data to the valid range for imshow with RGB data ([0..1] for floats or [0..255] for integers).\n",
            "WARNING:matplotlib.image:Clipping input data to the valid range for imshow with RGB data ([0..1] for floats or [0..255] for integers).\n",
            "WARNING:matplotlib.image:Clipping input data to the valid range for imshow with RGB data ([0..1] for floats or [0..255] for integers).\n",
            "WARNING:matplotlib.image:Clipping input data to the valid range for imshow with RGB data ([0..1] for floats or [0..255] for integers).\n",
            "WARNING:matplotlib.image:Clipping input data to the valid range for imshow with RGB data ([0..1] for floats or [0..255] for integers).\n",
            "WARNING:matplotlib.image:Clipping input data to the valid range for imshow with RGB data ([0..1] for floats or [0..255] for integers).\n",
            "WARNING:matplotlib.image:Clipping input data to the valid range for imshow with RGB data ([0..1] for floats or [0..255] for integers).\n",
            "WARNING:matplotlib.image:Clipping input data to the valid range for imshow with RGB data ([0..1] for floats or [0..255] for integers).\n",
            "WARNING:matplotlib.image:Clipping input data to the valid range for imshow with RGB data ([0..1] for floats or [0..255] for integers).\n",
            "WARNING:matplotlib.image:Clipping input data to the valid range for imshow with RGB data ([0..1] for floats or [0..255] for integers).\n",
            "WARNING:matplotlib.image:Clipping input data to the valid range for imshow with RGB data ([0..1] for floats or [0..255] for integers).\n",
            "WARNING:matplotlib.image:Clipping input data to the valid range for imshow with RGB data ([0..1] for floats or [0..255] for integers).\n",
            "WARNING:matplotlib.image:Clipping input data to the valid range for imshow with RGB data ([0..1] for floats or [0..255] for integers).\n",
            "WARNING:matplotlib.image:Clipping input data to the valid range for imshow with RGB data ([0..1] for floats or [0..255] for integers).\n",
            "WARNING:matplotlib.image:Clipping input data to the valid range for imshow with RGB data ([0..1] for floats or [0..255] for integers).\n",
            "WARNING:matplotlib.image:Clipping input data to the valid range for imshow with RGB data ([0..1] for floats or [0..255] for integers).\n",
            "WARNING:matplotlib.image:Clipping input data to the valid range for imshow with RGB data ([0..1] for floats or [0..255] for integers).\n",
            "WARNING:matplotlib.image:Clipping input data to the valid range for imshow with RGB data ([0..1] for floats or [0..255] for integers).\n",
            "WARNING:matplotlib.image:Clipping input data to the valid range for imshow with RGB data ([0..1] for floats or [0..255] for integers).\n",
            "WARNING:matplotlib.image:Clipping input data to the valid range for imshow with RGB data ([0..1] for floats or [0..255] for integers).\n",
            "WARNING:matplotlib.image:Clipping input data to the valid range for imshow with RGB data ([0..1] for floats or [0..255] for integers).\n",
            "WARNING:matplotlib.image:Clipping input data to the valid range for imshow with RGB data ([0..1] for floats or [0..255] for integers).\n",
            "WARNING:matplotlib.image:Clipping input data to the valid range for imshow with RGB data ([0..1] for floats or [0..255] for integers).\n",
            "WARNING:matplotlib.image:Clipping input data to the valid range for imshow with RGB data ([0..1] for floats or [0..255] for integers).\n",
            "WARNING:matplotlib.image:Clipping input data to the valid range for imshow with RGB data ([0..1] for floats or [0..255] for integers).\n",
            "WARNING:matplotlib.image:Clipping input data to the valid range for imshow with RGB data ([0..1] for floats or [0..255] for integers).\n",
            "WARNING:matplotlib.image:Clipping input data to the valid range for imshow with RGB data ([0..1] for floats or [0..255] for integers).\n",
            "WARNING:matplotlib.image:Clipping input data to the valid range for imshow with RGB data ([0..1] for floats or [0..255] for integers).\n",
            "WARNING:matplotlib.image:Clipping input data to the valid range for imshow with RGB data ([0..1] for floats or [0..255] for integers).\n",
            "WARNING:matplotlib.image:Clipping input data to the valid range for imshow with RGB data ([0..1] for floats or [0..255] for integers).\n",
            "WARNING:matplotlib.image:Clipping input data to the valid range for imshow with RGB data ([0..1] for floats or [0..255] for integers).\n",
            "WARNING:matplotlib.image:Clipping input data to the valid range for imshow with RGB data ([0..1] for floats or [0..255] for integers).\n",
            "WARNING:matplotlib.image:Clipping input data to the valid range for imshow with RGB data ([0..1] for floats or [0..255] for integers).\n",
            "WARNING:matplotlib.image:Clipping input data to the valid range for imshow with RGB data ([0..1] for floats or [0..255] for integers).\n",
            "WARNING:matplotlib.image:Clipping input data to the valid range for imshow with RGB data ([0..1] for floats or [0..255] for integers).\n",
            "WARNING:matplotlib.image:Clipping input data to the valid range for imshow with RGB data ([0..1] for floats or [0..255] for integers).\n",
            "WARNING:matplotlib.image:Clipping input data to the valid range for imshow with RGB data ([0..1] for floats or [0..255] for integers).\n",
            "WARNING:matplotlib.image:Clipping input data to the valid range for imshow with RGB data ([0..1] for floats or [0..255] for integers).\n",
            "WARNING:matplotlib.image:Clipping input data to the valid range for imshow with RGB data ([0..1] for floats or [0..255] for integers).\n",
            "WARNING:matplotlib.image:Clipping input data to the valid range for imshow with RGB data ([0..1] for floats or [0..255] for integers).\n",
            "WARNING:matplotlib.image:Clipping input data to the valid range for imshow with RGB data ([0..1] for floats or [0..255] for integers).\n",
            "WARNING:matplotlib.image:Clipping input data to the valid range for imshow with RGB data ([0..1] for floats or [0..255] for integers).\n",
            "WARNING:matplotlib.image:Clipping input data to the valid range for imshow with RGB data ([0..1] for floats or [0..255] for integers).\n",
            "WARNING:matplotlib.image:Clipping input data to the valid range for imshow with RGB data ([0..1] for floats or [0..255] for integers).\n",
            "WARNING:matplotlib.image:Clipping input data to the valid range for imshow with RGB data ([0..1] for floats or [0..255] for integers).\n",
            "WARNING:matplotlib.image:Clipping input data to the valid range for imshow with RGB data ([0..1] for floats or [0..255] for integers).\n",
            "WARNING:matplotlib.image:Clipping input data to the valid range for imshow with RGB data ([0..1] for floats or [0..255] for integers).\n",
            "WARNING:matplotlib.image:Clipping input data to the valid range for imshow with RGB data ([0..1] for floats or [0..255] for integers).\n",
            "WARNING:matplotlib.image:Clipping input data to the valid range for imshow with RGB data ([0..1] for floats or [0..255] for integers).\n",
            "WARNING:matplotlib.image:Clipping input data to the valid range for imshow with RGB data ([0..1] for floats or [0..255] for integers).\n",
            "WARNING:matplotlib.image:Clipping input data to the valid range for imshow with RGB data ([0..1] for floats or [0..255] for integers).\n",
            "WARNING:matplotlib.image:Clipping input data to the valid range for imshow with RGB data ([0..1] for floats or [0..255] for integers).\n",
            "WARNING:matplotlib.image:Clipping input data to the valid range for imshow with RGB data ([0..1] for floats or [0..255] for integers).\n",
            "WARNING:matplotlib.image:Clipping input data to the valid range for imshow with RGB data ([0..1] for floats or [0..255] for integers).\n",
            "WARNING:matplotlib.image:Clipping input data to the valid range for imshow with RGB data ([0..1] for floats or [0..255] for integers).\n",
            "WARNING:matplotlib.image:Clipping input data to the valid range for imshow with RGB data ([0..1] for floats or [0..255] for integers).\n",
            "WARNING:matplotlib.image:Clipping input data to the valid range for imshow with RGB data ([0..1] for floats or [0..255] for integers).\n",
            "WARNING:matplotlib.image:Clipping input data to the valid range for imshow with RGB data ([0..1] for floats or [0..255] for integers).\n",
            "WARNING:matplotlib.image:Clipping input data to the valid range for imshow with RGB data ([0..1] for floats or [0..255] for integers).\n",
            "WARNING:matplotlib.image:Clipping input data to the valid range for imshow with RGB data ([0..1] for floats or [0..255] for integers).\n",
            "WARNING:matplotlib.image:Clipping input data to the valid range for imshow with RGB data ([0..1] for floats or [0..255] for integers).\n",
            "WARNING:matplotlib.image:Clipping input data to the valid range for imshow with RGB data ([0..1] for floats or [0..255] for integers).\n",
            "WARNING:matplotlib.image:Clipping input data to the valid range for imshow with RGB data ([0..1] for floats or [0..255] for integers).\n",
            "WARNING:matplotlib.image:Clipping input data to the valid range for imshow with RGB data ([0..1] for floats or [0..255] for integers).\n"
          ]
        },
        {
          "output_type": "display_data",
          "data": {
            "text/plain": [
              "<Figure size 432x288 with 64 Axes>"
            ],
            "image/png": "[encoded data removed]"
          },
          "metadata": {
            "needs_background": "light"
          }
        }
      ]
    },
    {
      "cell_type": "code",
      "source": [
        "# main CNN class\n",
        "class CNN(nn.Module):\n",
        "  def __init__(self, numClasses=10):\n",
        "    super(CNN, self).__init__()\n",
        "\n",
        "    # images are 32x32x3\n",
        "\n",
        "    self.conv1 = nn.Conv2d(in_channels=3, out_channels=32, kernel_size=3)\n",
        "    self.conv2 = nn.Conv2d(in_channels=32, out_channels=32, kernel_size=3)\n",
        "    # 32x32x32\n",
        "\n",
        "    self.maxPool1 = nn.MaxPool2d(kernel_size=2, stride=2)\n",
        "    # 16x16x32\n",
        "\n",
        "    self.conv3 = nn.Conv2d(in_channels=32, out_channels=64, kernel_size=3)\n",
        "    self.conv4 = nn.Conv2d(in_channels=64, out_channels=64, kernel_size=3)\n",
        "    self.maxPool2 = nn.MaxPool2d(kernel_size=2, stride=2)\n",
        "\n",
        "    self.fc1 = nn.Linear(1600, 128)\n",
        "    self.relu1 = nn.ReLU()\n",
        "    self.fc2 = nn.Linear(128, numClasses)\n",
        "\n",
        "\n",
        "  def forward(self, x):\n",
        "    # 64 x 3 x 32 x 32\n",
        "    \n",
        "    out = self.conv1(x)\n",
        "    out = self.conv2(out)\n",
        "    out = self.maxPool1(out)\n",
        "\n",
        "    # 64 x 32 x 14 x 14\n",
        "\n",
        "    out = self.conv3(out)\n",
        "    out = self.conv4(out)\n",
        "    out = self.maxPool2(out)\n",
        "\n",
        "    # 64 x 64 x 5 x 5\n",
        "\n",
        "    out = out.reshape(out.size(0), -1)\n",
        "    # 64 X 1600\n",
        "\n",
        "    out = self.fc1(out)\n",
        "    out = self.relu1(out)\n",
        "    out = self.fc2(out)\n",
        "\n",
        "    # 64 x 10\n",
        "\n",
        "    return out"
      ],
      "metadata": {
        "id": "oICpgvqIaZ25"
      },
      "execution_count": 8,
      "outputs": []
    },
    {
      "cell_type": "code",
      "source": [
        "# set up hyperparameters\n",
        "model = CNN()\n",
        "model.to(device)\n",
        "\n",
        "criterion = nn.CrossEntropyLoss()\n",
        "\n",
        "optimizer = torch.optim.SGD(model.parameters(), lr=lr, weight_decay=0.005, momentum=0.9)\n",
        "\n",
        "totalStep = len(trainLoader)"
      ],
      "metadata": {
        "id": "jiM7Kjjjivek"
      },
      "execution_count": 9,
      "outputs": []
    },
    {
      "cell_type": "code",
      "source": [
        "!mkdir -p modelCheckpoints\n",
        "\n",
        "# train the CNN\n",
        "\n",
        "def saveModel(model, epoch, path, loss):\n",
        "  torch.save({\n",
        "      'epoch': epoch,\n",
        "      'model_state_dict': model.state_dict(),\n",
        "      'optimizer_state_dict': optimizer.state_dict(),\n",
        "      'loss': loss,\n",
        "      }, path)\n",
        "  \n",
        "for epoch in range(numEpochs):\n",
        "  for i, (images, labels) in enumerate(trainLoader):\n",
        "    # shift to cuda\n",
        "    images = images.to(device)\n",
        "    labels = labels.to(device)\n",
        "\n",
        "    # forward\n",
        "    outputs = model(images)\n",
        "    loss = criterion(outputs, labels)\n",
        "\n",
        "    # backwards and optim\n",
        "    optimizer.zero_grad()\n",
        "    loss.backward()\n",
        "    optimizer.step()\n",
        "\n",
        "  print('Epoch [%d/%d], Loss: {:%.4f}' % (epoch+1, numEpochs, loss.item()))\n",
        "\n",
        "  if epoch % 2 == 0:\n",
        "    saveModel(model, epoch, \"modelCheckpoints/Q1_CNN_epoch_\" + str(epoch), loss.item())"
      ],
      "metadata": {
        "colab": {
          "base_uri": "https://localhost:8080/"
        },
        "id": "2G_p0KyLlGIx",
        "outputId": "56100b0b-87e6-4dd7-825c-0745cbb4733f"
      },
      "execution_count": 10,
      "outputs": [
        {
          "output_type": "stream",
          "name": "stdout",
          "text": [
            "Epoch [1/20], Loss: {:1.6706}\n",
            "Epoch [2/20], Loss: {:1.4074}\n",
            "Epoch [3/20], Loss: {:1.5136}\n",
            "Epoch [4/20], Loss: {:1.3035}\n",
            "Epoch [5/20], Loss: {:1.3984}\n",
            "Epoch [6/20], Loss: {:0.6304}\n",
            "Epoch [7/20], Loss: {:1.6570}\n",
            "Epoch [8/20], Loss: {:1.3078}\n",
            "Epoch [9/20], Loss: {:1.1862}\n",
            "Epoch [10/20], Loss: {:1.0468}\n",
            "Epoch [11/20], Loss: {:1.0241}\n",
            "Epoch [12/20], Loss: {:1.0761}\n",
            "Epoch [13/20], Loss: {:1.0149}\n",
            "Epoch [14/20], Loss: {:0.5966}\n",
            "Epoch [15/20], Loss: {:0.6586}\n",
            "Epoch [16/20], Loss: {:0.7831}\n",
            "Epoch [17/20], Loss: {:0.3889}\n",
            "Epoch [18/20], Loss: {:0.8901}\n",
            "Epoch [19/20], Loss: {:0.2610}\n",
            "Epoch [20/20], Loss: {:0.5287}\n"
          ]
        }
      ]
    },
    {
      "cell_type": "code",
      "source": [
        "# evaluate on train\n",
        "\n",
        "with torch.no_grad():\n",
        "  correct = 0\n",
        "  total = 0\n",
        "  for images, labels in trainLoader:\n",
        "    images = images.to(device)\n",
        "    labels = labels.to(device)\n",
        "    outputs = model(images)\n",
        "\n",
        "    # max confidence value is the predicted class\n",
        "    _, predicted = torch.max(outputs.data, 1)\n",
        "    # print(predicted)\n",
        "    total += labels.size(0)\n",
        "    correct += (predicted == labels).sum().item()\n",
        "\n",
        "  print(\"Accuracy on %d training images: %.3f%%\" % (50000, 100 * float(correct)/total))"
      ],
      "metadata": {
        "colab": {
          "base_uri": "https://localhost:8080/"
        },
        "id": "Z3NRKUgvvpkd",
        "outputId": "deac4853-57b6-42ad-a917-f2d97b690755"
      },
      "execution_count": 12,
      "outputs": [
        {
          "output_type": "stream",
          "name": "stdout",
          "text": [
            "Accuracy on 50000 training images: 83.194%\n"
          ]
        }
      ]
    },
    {
      "cell_type": "code",
      "source": [
        "# evaluate on test\n",
        "\n",
        "with torch.no_grad():\n",
        "  correct = 0\n",
        "  total = 0\n",
        "  for images, labels in testLoader:\n",
        "    images = images.to(device)\n",
        "    labels = labels.to(device)\n",
        "    outputs = model(images)\n",
        "\n",
        "    # max confidence value is the predicted class\n",
        "    _, predicted = torch.max(outputs.data, 1)\n",
        "    total += labels.size(0)\n",
        "    correct += (predicted == labels).sum().item()\n",
        "\n",
        "  print(\"Accuracy on %d training images: %.3f%%\" % (10000, 100 * float(correct)/total))"
      ],
      "metadata": {
        "colab": {
          "base_uri": "https://localhost:8080/"
        },
        "id": "JtRYq5Oct4kg",
        "outputId": "56f58309-013f-4056-8c3f-d5ebe1166494"
      },
      "execution_count": 13,
      "outputs": [
        {
          "output_type": "stream",
          "name": "stdout",
          "text": [
            "Accuracy on 10000 training images: 67.970%\n"
          ]
        }
      ]
    },
    {
      "cell_type": "markdown",
      "source": [
        "# Q2: visualising feature maps"
      ],
      "metadata": {
        "id": "ml37H-sjxcRP"
      }
    },
    {
      "cell_type": "code",
      "source": [
        "# extract all conv layers and their weights\n",
        "\n",
        "from PIL import Image\n",
        "import copy \n",
        "\n",
        "def visualiseFeatureMaps(inputImg, modelTransform, model):\n",
        "  # get convs\n",
        "  modelWeights = []\n",
        "  convLayers = []\n",
        "\n",
        "  cnt = 0\n",
        "  for child in model.children():\n",
        "    if type(child) == nn.Conv2d:\n",
        "      cnt += 1\n",
        "      modelWeights.append(child.weight)\n",
        "      convLayers.append(child)\n",
        "                    \n",
        "    elif type(child) == nn.Sequential:\n",
        "      for i in range(len(child)):\n",
        "        for grandchild in child[i].children():\n",
        "          if type(grandchild) == nn.Conv2d:\n",
        "            cnt += 1\n",
        "            modelWeights.append(grandchild.weight)\n",
        "            convLayers.append(grandchild)\n",
        "\n",
        "  print(\"%d conv layers found:\" % cnt)\n",
        "  for cl in convLayers:\n",
        "    print(cl)\n",
        "  print()\n",
        "\n",
        "  # convert image, obtain maps\n",
        "  print(inputImg.shape)\n",
        "  inputImg = torch.swapaxes(inputImg, 0,2)\n",
        "  T = transforms.ToPILImage()\n",
        "  img = T(inputImg)\n",
        "  \n",
        "  img = modelTransform(img)\n",
        "  img = img.unsqueeze(0)\n",
        "  img = img.to(device)\n",
        "  \n",
        "  outputs = []\n",
        "  names = []\n",
        "\n",
        "  for layer in convLayers:\n",
        "    img = layer(img)\n",
        "    outputs.append(img)\n",
        "    names.append(str(layer))\n",
        "\n",
        "  print(\"%d feature maps of the following shapes: \" % len(outputs))\n",
        "  for featureMap in outputs:\n",
        "    print(featureMap.shape)\n",
        "\n",
        "  # convert 3d tensors to 2d\n",
        "  finalMaps = []\n",
        "  for featureMap in outputs:\n",
        "    featureMap = featureMap.squeeze(0)\n",
        "    bw = torch.sum(featureMap, axis=0)\n",
        "    bw = bw / featureMap.shape[0]\n",
        "    finalMaps.append(bw.data.cpu().numpy())\n",
        "\n",
        "  print()\n",
        "  print(\"Feature map shapes\")\n",
        "  for fm in finalMaps:\n",
        "    print(fm.shape)\n",
        "\n",
        "  fig = plt.figure(figsize=(30, 50))\n",
        "  for i in range(len(finalMaps)):\n",
        "    a = fig.add_subplot(5, 4, i+1)\n",
        "    imgplot = plt.imshow(finalMaps[i])\n",
        "    a.axis(\"off\")\n",
        "    a.set_title(\"Map: %d\" % i, fontsize=30)\n",
        "  plt.plot()\n",
        "\n",
        "\n",
        "imgs, _ = next(iter(trainLoader))\n",
        "\n",
        "dispImg = copy.deepcopy(img)\n",
        "dispImg = np.swapaxes(dispImg, 0, 2)\n",
        "dispImg = np.swapaxes(dispImg, 0, 1)\n",
        "dispImg = np.swapaxes(dispImg, 2, 1)\n",
        "plt.imshow(dispImg)\n",
        "plt.plot()\n",
        "\n",
        "visualiseFeatureMaps(img, allTransforms, model)\n"
      ],
      "metadata": {
        "id": "47ueu0dOxiLS",
        "colab": {
          "base_uri": "https://localhost:8080/",
          "height": 831
        },
        "outputId": "8a88c0f9-8048-427a-a80e-cfa48b73986f"
      },
      "execution_count": 14,
      "outputs": [
        {
          "output_type": "stream",
          "name": "stderr",
          "text": [
            "WARNING:matplotlib.image:Clipping input data to the valid range for imshow with RGB data ([0..1] for floats or [0..255] for integers).\n"
          ]
        },
        {
          "output_type": "stream",
          "name": "stdout",
          "text": [
            "4 conv layers found:\n",
            "Conv2d(3, 32, kernel_size=(3, 3), stride=(1, 1))\n",
            "Conv2d(32, 32, kernel_size=(3, 3), stride=(1, 1))\n",
            "Conv2d(32, 64, kernel_size=(3, 3), stride=(1, 1))\n",
            "Conv2d(64, 64, kernel_size=(3, 3), stride=(1, 1))\n",
            "\n",
            "torch.Size([32, 32, 3])\n",
            "4 feature maps of the following shapes: \n",
            "torch.Size([1, 32, 30, 30])\n",
            "torch.Size([1, 32, 28, 28])\n",
            "torch.Size([1, 64, 26, 26])\n",
            "torch.Size([1, 64, 24, 24])\n",
            "\n",
            "Feature map shapes\n",
            "(30, 30)\n",
            "(28, 28)\n",
            "(26, 26)\n",
            "(24, 24)\n"
          ]
        },
        {
          "output_type": "display_data",
          "data": {
            "text/plain": [
              "<Figure size 432x288 with 1 Axes>"
            ],
            "image/png": "[encoded data removed]"
          },
          "metadata": {
            "needs_background": "light"
          }
        },
        {
          "output_type": "display_data",
          "data": {
            "text/plain": [
              "<Figure size 2160x3600 with 4 Axes>"
            ],
            "image/png": "[encoded data removed]"
          },
          "metadata": {
            "needs_background": "light"
          }
        }
      ]
    },
    {
      "cell_type": "markdown",
      "source": [
        "# Q3: Ablations"
      ],
      "metadata": {
        "id": "h4QVz44cWpmn"
      }
    },
    {
      "cell_type": "code",
      "source": [
        "from sklearn.metrics import f1_score\n",
        "import time\n",
        "\n",
        "def runAblation(model, batchSize=64, lr=0.001, numEpochs=20):\n",
        "  initTime = time.time()\n",
        "\n",
        "  ## redeclare data loaders\n",
        "  \n",
        "\n",
        "  # batchSize = 64\n",
        "  numClasses = 10\n",
        "  # lr = 0.001\n",
        "  # numEpochs = 20\n",
        "\n",
        "  # cuda\n",
        "  device = torch.device('cuda' if torch.cuda.is_available() else 'cpu')\n",
        "\n",
        "  # import CIFAR-10 and create torch dataloaders\n",
        "  allTransforms = transforms.Compose([transforms.Resize((32,32)),\n",
        "                                      transforms.ToTensor(),\n",
        "                                        # cifar 10 mean and std found online\n",
        "                                      transforms.Normalize(mean=[0.4914, 0.4822, 0.4465],\n",
        "                                                            std=[0.2023, 0.1994, 0.2010])\n",
        "                                      ])\n",
        "\n",
        "  # declare datasets\n",
        "  trainDataset = torchvision.datasets.CIFAR10(root = './data',\n",
        "                                              train = True,\n",
        "                                              transform = allTransforms,\n",
        "                                              download=True)\n",
        "\n",
        "  testDataset = torchvision.datasets.CIFAR10(root = './data',\n",
        "                                              train = False,\n",
        "                                              transform = allTransforms,\n",
        "                                              download=True)\n",
        "\n",
        "  # dataloaders\n",
        "  trainLoader = torch.utils.data.DataLoader(trainDataset,\n",
        "                                            batch_size=batchSize,\n",
        "                                            shuffle=True)\n",
        "\n",
        "  testLoader = torch.utils.data.DataLoader(testDataset,\n",
        "                                            batch_size=batchSize,\n",
        "                                            shuffle=True)\n",
        "  \n",
        "\n",
        "  ## \n",
        "  model.to(device)\n",
        "  criterion = nn.CrossEntropyLoss()\n",
        "  optimizer = torch.optim.SGD(model.parameters(), lr=lr, weight_decay=0.005, momentum=0.9)\n",
        "  totalStep = len(trainLoader)\n",
        "\n",
        "\n",
        "  print(numEpochs)\n",
        "  for epoch in range(numEpochs):\n",
        "    for i, (images, labels) in enumerate(trainLoader):\n",
        "      # shift to cuda\n",
        "      images = images.to(device)\n",
        "      labels = labels.to(device)\n",
        "\n",
        "      # forward\n",
        "      outputs = model(images)\n",
        "      loss = criterion(outputs, labels)\n",
        "\n",
        "      # backwards and optim\n",
        "      optimizer.zero_grad()\n",
        "      loss.backward()\n",
        "      optimizer.step()\n",
        "\n",
        "    print('Epoch [%d/%d], Loss: {:%.4f}' % (epoch+1, numEpochs, loss.item()))\n",
        "\n",
        "\n",
        "  f1 = 0.0\n",
        "  accuracy = 0.0\n",
        "  with torch.no_grad():\n",
        "    correct = 0\n",
        "    total = 0\n",
        "\n",
        "    y_pred = []\n",
        "    y_labels = []\n",
        "    \n",
        "    for images, labels in testLoader:\n",
        "      images = images.to(device)\n",
        "      labels = labels.to(device)\n",
        "      outputs = model(images)\n",
        "\n",
        "      # max confidence value is the predicted class\n",
        "      _, predicted = torch.max(outputs.data, 1)\n",
        "\n",
        "      for p,l in zip(predicted, labels):\n",
        "        y_pred.append(p.cpu())\n",
        "        y_labels.append(l.cpu())\n",
        "\n",
        "      total += labels.size(0)\n",
        "      correct += (predicted == labels).sum().item()\n",
        "\n",
        "\n",
        "  f1 = f1_score(y_labels, y_pred, average=None)\n",
        "  accuracy = float(correct)/total\n",
        "  print(\"Accuracy on %d training images: %.3f%%\" % (10000, 100 * float(correct)/total))\n",
        "  print(\"F1 score for all classes: \", f1)\n",
        "  print()\n",
        "\n",
        "  timeTaken = time.time() - initTime\n",
        "\n",
        "  print(\"Time taken: %f minutes\" % (float(timeTaken)/60))\n",
        "  print()\n",
        "\n",
        "  print(\"Feature maps: \")\n",
        "\n",
        "  imgs, _ = next(iter(trainLoader))\n",
        "\n",
        "  dispImg = copy.deepcopy(img)\n",
        "  dispImg = np.swapaxes(dispImg, 0, 2)\n",
        "  dispImg = np.swapaxes(dispImg, 0, 1)\n",
        "  dispImg = np.swapaxes(dispImg, 2, 1)\n",
        "  plt.imshow(dispImg)\n",
        "  plt.plot()\n",
        "\n",
        "  visualiseFeatureMaps(img, allTransforms, model)\n",
        "\n",
        "  return f1, accuracy\n",
        "\n"
      ],
      "metadata": {
        "id": "cdCYU-MrOZbq"
      },
      "execution_count": 15,
      "outputs": []
    },
    {
      "cell_type": "markdown",
      "source": [
        "## Abalations done:\n",
        "\n",
        "1. Changing the number of layers\n",
        "  - Vary number of conv layers\n",
        "  - Vary number of fully connected layers\n",
        "\n",
        "2. Changing conv filter size\n",
        "  - Smaller conv filters\n",
        "  - Larger conv filters\n",
        "\n",
        "3. Dropout layers\n",
        "\n",
        "4. Varying learning rate\n",
        "\n",
        "5. Varying batch size\n",
        "\n",
        "6. Varying the number of epochs\n",
        "\n",
        "\n"
      ],
      "metadata": {
        "id": "gPUOozh9jzrT"
      }
    },
    {
      "cell_type": "markdown",
      "source": [
        "# Model defns\n"
      ],
      "metadata": {
        "id": "SF2mW9g2lJSF"
      }
    },
    {
      "cell_type": "code",
      "source": [
        "# more cnns\n",
        "\n",
        "# more conv layers\n",
        "class longerCNN(nn.Module):\n",
        "  def __init__(self, numClasses=10):\n",
        "    super(longerCNN, self).__init__()\n",
        "\n",
        "    # images are 32x32x3\n",
        "\n",
        "    self.conv1 = nn.Conv2d(in_channels=3, out_channels=32, kernel_size=3)\n",
        "    self.conv2 = nn.Conv2d(in_channels=32, out_channels=32, kernel_size=3)\n",
        "    self.maxPool1 = nn.MaxPool2d(kernel_size=2, stride=2)\n",
        "    \n",
        "    # 32x32x32\n",
        "    self.conv3 = nn.Conv2d(in_channels=32, out_channels=48, kernel_size=3)\n",
        "    self.conv4 = nn.Conv2d(in_channels=48, out_channels=48, kernel_size=3)\n",
        "    self.maxPool2 = nn.MaxPool2d(kernel_size=2, stride=2)\n",
        "\n",
        "    # 16x16x32\n",
        "\n",
        "    self.conv5 = nn.Conv2d(in_channels=48, out_channels=64, kernel_size=3)\n",
        "    self.conv6 = nn.Conv2d(in_channels=64, out_channels=64, kernel_size=3)\n",
        "    self.maxPool3 = nn.MaxPool2d(kernel_size=2, stride=2)\n",
        "\n",
        "    self.fc1 = nn.Linear(1600, 128)\n",
        "    self.relu1 = nn.ReLU()\n",
        "    self.fc2 = nn.Linear(128, numClasses)\n",
        "\n",
        "\n",
        "  def forward(self, x):\n",
        "    # 64 x 3 x 32 x 32\n",
        "    \n",
        "    out = self.conv1(x)\n",
        "    out = self.conv2(out)\n",
        "    out = self.maxPool1(out)\n",
        "\n",
        "    out = self.conv3(out)\n",
        "    out = self.conv4(out)\n",
        "    out = self.maxPool2(out)\n",
        "\n",
        "    # 64 x 32 x 14 x 14\n",
        "\n",
        "    out = self.conv5(out)\n",
        "    out = self.conv6(out)\n",
        "    out = self.maxPool3(out)\n",
        "\n",
        "    # 64 x 64 x 5 x 5\n",
        "\n",
        "    out = out.reshape(out.size(0), -1)\n",
        "    # 64 X 1600\n",
        "\n",
        "    out = self.fc1(out)\n",
        "    out = self.relu1(out)\n",
        "    out = self.fc2(out)\n",
        "\n",
        "    # 64 x 10\n",
        "\n",
        "    return out\n",
        "\n",
        "\n",
        "# fewer conv layers\n",
        "class shortCNN(nn.Module):\n",
        "  def __init__(self, numClasses=10):\n",
        "    super(shortCNN, self).__init__()\n",
        "\n",
        "    # images are 32x32x3\n",
        "\n",
        "    self.conv1 = nn.Conv2d(in_channels=3, out_channels=32, kernel_size=3)\n",
        "    # 32x32x32\n",
        "\n",
        "    self.maxPool1 = nn.MaxPool2d(kernel_size=2, stride=2)\n",
        "    # 16x16x32\n",
        "\n",
        "    self.conv2 = nn.Conv2d(in_channels=32, out_channels=64, kernel_size=3)\n",
        "    self.maxPool2 = nn.MaxPool2d(kernel_size=2, stride=2)\n",
        "\n",
        "    self.fc1 = nn.Linear(1600, 128)\n",
        "    self.relu1 = nn.ReLU()\n",
        "    self.fc2 = nn.Linear(128, numClasses)\n",
        "\n",
        "\n",
        "  def forward(self, x):\n",
        "    # 64 x 3 x 32 x 32\n",
        "    \n",
        "    out = self.conv1(x)\n",
        "    out = self.maxPool1(out)\n",
        "\n",
        "    # 64 x 32 x 14 x 14\n",
        "\n",
        "    out = self.conv2(out)\n",
        "    out = self.maxPool2(out)\n",
        "\n",
        "    # 64 x 64 x 5 x 5\n",
        "\n",
        "    out = out.reshape(out.size(0), -1)\n",
        "    # 64 X 1600\n",
        "\n",
        "    out = self.fc1(out)\n",
        "    out = self.relu1(out)\n",
        "    out = self.fc2(out)\n",
        "\n",
        "    # 64 x 10\n",
        "\n",
        "    return out\n"
      ],
      "metadata": {
        "id": "bzK_hhfPkehU"
      },
      "execution_count": 16,
      "outputs": []
    },
    {
      "cell_type": "code",
      "source": [
        "# changing filter size\n",
        "\n",
        "\n",
        "# larger conv\n",
        "class wideCNN(nn.Module):\n",
        "  def __init__(self, numClasses=10):\n",
        "    super(wideCNN, self).__init__()\n",
        "\n",
        "    # images are 32x32x3\n",
        "\n",
        "    self.conv1 = nn.Conv2d(in_channels=3, out_channels=32, kernel_size=5)\n",
        "    self.conv2 = nn.Conv2d(in_channels=32, out_channels=32, kernel_size=5)\n",
        "    # 32x32x32\n",
        "\n",
        "    self.maxPool1 = nn.MaxPool2d(kernel_size=2, stride=2)\n",
        "    # 16x16x32\n",
        "\n",
        "    self.conv3 = nn.Conv2d(in_channels=32, out_channels=64, kernel_size=5)\n",
        "    self.conv4 = nn.Conv2d(in_channels=64, out_channels=64, kernel_size=5)\n",
        "    self.maxPool2 = nn.MaxPool2d(kernel_size=2, stride=2)\n",
        "\n",
        "    self.fc1 = nn.Linear(1600, 128)\n",
        "    self.relu1 = nn.ReLU()\n",
        "    self.fc2 = nn.Linear(128, numClasses)\n",
        "\n",
        "\n",
        "  def forward(self, x):\n",
        "    # 64 x 3 x 32 x 32\n",
        "    \n",
        "    out = self.conv1(x)\n",
        "    out = self.conv2(out)\n",
        "    out = self.maxPool1(out)\n",
        "\n",
        "    # 64 x 32 x 14 x 14\n",
        "\n",
        "    out = self.conv3(out)\n",
        "    out = self.conv4(out)\n",
        "    out = self.maxPool2(out)\n",
        "\n",
        "    # 64 x 64 x 5 x 5\n",
        "\n",
        "    out = out.reshape(out.size(0), -1)\n",
        "    # 64 X 1600\n",
        "\n",
        "    out = self.fc1(out)\n",
        "    out = self.relu1(out)\n",
        "    out = self.fc2(out)\n",
        "\n",
        "    # 64 x 10\n",
        "\n",
        "    return out\n",
        "\n",
        "  \n",
        "  # even larger conv\n",
        "class hugeCNN(nn.Module):\n",
        "  def __init__(self, numClasses=10):\n",
        "    super(hugeCNN, self).__init__()\n",
        "\n",
        "    # images are 32x32x3\n",
        "\n",
        "    self.conv1 = nn.Conv2d(in_channels=3, out_channels=32, kernel_size=7)\n",
        "    self.conv2 = nn.Conv2d(in_channels=32, out_channels=32, kernel_size=7)\n",
        "    # 32x32x32\n",
        "\n",
        "    self.maxPool1 = nn.MaxPool2d(kernel_size=2, stride=2)\n",
        "    # 16x16x32\n",
        "\n",
        "    self.conv3 = nn.Conv2d(in_channels=32, out_channels=64, kernel_size=7)\n",
        "    self.conv4 = nn.Conv2d(in_channels=64, out_channels=64, kernel_size=7)\n",
        "    self.maxPool2 = nn.MaxPool2d(kernel_size=2, stride=2)\n",
        "\n",
        "    self.fc1 = nn.Linear(1600, 128)\n",
        "    self.relu1 = nn.ReLU()\n",
        "    self.fc2 = nn.Linear(128, numClasses)\n",
        "\n",
        "\n",
        "  def forward(self, x):\n",
        "    # 64 x 3 x 32 x 32\n",
        "    \n",
        "    out = self.conv1(x)\n",
        "    out = self.conv2(out)\n",
        "    out = self.maxPool1(out)\n",
        "\n",
        "    # 64 x 32 x 14 x 14\n",
        "\n",
        "    out = self.conv3(out)\n",
        "    out = self.conv4(out)\n",
        "    out = self.maxPool2(out)\n",
        "\n",
        "    # 64 x 64 x 5 x 5\n",
        "\n",
        "    out = out.reshape(out.size(0), -1)\n",
        "    # 64 X 1600\n",
        "\n",
        "    out = self.fc1(out)\n",
        "    out = self.relu1(out)\n",
        "    out = self.fc2(out)\n",
        "\n",
        "    # 64 x 10\n",
        "\n",
        "    return out\n",
        "\n",
        "  \n",
        "  # mixed conv\n",
        "class mixedCNN(nn.Module):\n",
        "  def __init__(self, numClasses=10):\n",
        "    super(mixedCNN, self).__init__()\n",
        "\n",
        "    # images are 32x32x3\n",
        "\n",
        "    self.conv1 = nn.Conv2d(in_channels=3, out_channels=32, kernel_size=5)\n",
        "    self.conv2 = nn.Conv2d(in_channels=32, out_channels=32, kernel_size=5)\n",
        "    # 32x32x32\n",
        "\n",
        "    self.maxPool1 = nn.MaxPool2d(kernel_size=2, stride=2)\n",
        "    # 16x16x32\n",
        "\n",
        "    self.conv3 = nn.Conv2d(in_channels=32, out_channels=64, kernel_size=3)\n",
        "    self.conv4 = nn.Conv2d(in_channels=64, out_channels=64, kernel_size=3)\n",
        "    self.maxPool2 = nn.MaxPool2d(kernel_size=2, stride=2)\n",
        "\n",
        "    self.fc1 = nn.Linear(1600, 128)\n",
        "    self.relu1 = nn.ReLU()\n",
        "    self.fc2 = nn.Linear(128, numClasses)\n",
        "\n",
        "\n",
        "  def forward(self, x):\n",
        "    # 64 x 3 x 32 x 32\n",
        "    \n",
        "    out = self.conv1(x)\n",
        "    out = self.conv2(out)\n",
        "    out = self.maxPool1(out)\n",
        "\n",
        "    # 64 x 32 x 14 x 14\n",
        "\n",
        "    out = self.conv3(out)\n",
        "    out = self.conv4(out)\n",
        "    out = self.maxPool2(out)\n",
        "\n",
        "    # 64 x 64 x 5 x 5\n",
        "\n",
        "    out = out.reshape(out.size(0), -1)\n",
        "    # 64 X 1600\n",
        "\n",
        "    out = self.fc1(out)\n",
        "    out = self.relu1(out)\n",
        "    out = self.fc2(out)\n",
        "\n",
        "    # 64 x 10\n",
        "\n",
        "    return out"
      ],
      "metadata": {
        "id": "5oLlC9Welp2d"
      },
      "execution_count": 17,
      "outputs": []
    },
    {
      "cell_type": "code",
      "source": [
        "# dropout\n",
        "\n",
        "# larger conv\n",
        "class dropoutCNN(nn.Module):\n",
        "  def __init__(self, numClasses=10):\n",
        "    super(dropoutCNN, self).__init__()\n",
        "\n",
        "    # images are 32x32x3\n",
        "\n",
        "    self.conv1 = nn.Conv2d(in_channels=3, out_channels=32, kernel_size=3)\n",
        "    self.conv2 = nn.Conv2d(in_channels=32, out_channels=32, kernel_size=3)\n",
        "    # 32x32x32\n",
        "\n",
        "    self.maxPool1 = nn.MaxPool2d(kernel_size=2, stride=2)\n",
        "    # 16x16x32\n",
        "\n",
        "    self.conv3 = nn.Conv2d(in_channels=32, out_channels=64, kernel_size=3)\n",
        "    self.conv4 = nn.Conv2d(in_channels=64, out_channels=64, kernel_size=3)\n",
        "    self.maxPool2 = nn.MaxPool2d(kernel_size=2, stride=2)\n",
        "\n",
        "    self.dropout1 = nn.Dropout(p=0.2)\n",
        "    self.dropout2 = nn.Dropout(p=0.2)\n",
        "\n",
        "    self.fc1 = nn.Linear(1600, 128)\n",
        "    self.relu1 = nn.ReLU()\n",
        "    self.fc2 = nn.Linear(128, numClasses)\n",
        "\n",
        "\n",
        "  def forward(self, x):\n",
        "    # 64 x 3 x 32 x 32\n",
        "    \n",
        "    out = self.conv1(x)\n",
        "    out = self.conv2(out)\n",
        "    out = self.maxPool1(out)\n",
        "\n",
        "    # 64 x 32 x 14 x 14\n",
        "\n",
        "    out = self.conv3(out)\n",
        "    out = self.conv4(out)\n",
        "    out = self.maxPool2(out)\n",
        "\n",
        "    # 64 x 64 x 5 x 5\n",
        "\n",
        "    out = out.reshape(out.size(0), -1)\n",
        "    # 64 X 1600\n",
        "\n",
        "    out = self.dropout1(out)\n",
        "    out = self.fc1(out)\n",
        "    out = self.relu1(out)\n",
        "\n",
        "    out = self.dropout2(out)\n",
        "    out = self.fc2(out)\n",
        "\n",
        "    # 64 x 10\n",
        "\n",
        "    return out"
      ],
      "metadata": {
        "id": "oZS1d51JmFSR"
      },
      "execution_count": 18,
      "outputs": []
    },
    {
      "cell_type": "markdown",
      "source": [
        "# Evaluations"
      ],
      "metadata": {
        "id": "fa7hbZ1YnbGC"
      }
    },
    {
      "cell_type": "code",
      "source": [
        "# num layers\n",
        "print(\"Normal CNN\")\n",
        "print(\"---------------------------------------------------------------------------\\n\")\n",
        "runAblation(CNN(), batchSize=64, lr=0.001, numEpochs=10)\n",
        "print()\n",
        "\n",
        "# install and import\n",
        "import numpy as np\n",
        "import cv2\n",
        "import matplotlib.pyplot as plt\n",
        "\n",
        "import torch\n",
        "import torch.nn as nn\n",
        "import torchvision\n",
        "import torchvision.transforms as transforms\n",
        "\n"
      ],
      "metadata": {
        "colab": {
          "base_uri": "https://localhost:8080/",
          "height": 133
        },
        "id": "dUPUzV_Vnx1e",
        "outputId": "59e5560e-bbea-4e2d-d28b-b0a9eaa7ef61"
      },
      "execution_count": 23,
      "outputs": [
        {
          "output_type": "error",
          "ename": "SyntaxError",
          "evalue": "ignored",
          "traceback": [
            "\u001b[0;36m  File \u001b[0;32m\"<ipython-input-23-96368cac9b0d>\"\u001b[0;36m, line \u001b[0;32m150\u001b[0m\n\u001b[0;31m    Accuracy on 10000 training images: 69.190%\u001b[0m\n\u001b[0m             ^\u001b[0m\n\u001b[0;31mSyntaxError\u001b[0m\u001b[0;31m:\u001b[0m invalid syntax\n"
          ]
        }
      ]
    },
    {
      "cell_type": "markdown",
      "source": [
        "# Evaluations\n"
      ],
      "metadata": {
        "id": "-kaCQGLG8RPO"
      }
    },
    {
      "cell_type": "code",
      "source": [
        "\n",
        "# Evaluations\n",
        "\n",
        "# num layers\n",
        "print(\"Normal CNN\")\n",
        "print(\"---------------------------------------------------------------------------\\n\")\n",
        "runAblation(CNN(), batchSize=64, lr=0.001, numEpochs=10)\n",
        "print()\n",
        "\n",
        "print(\"Short CNN\")\n",
        "print(\"---------------------------------------------------------------------------\\n\")\n",
        "runAblation(shortCNN(), batchSize=64, lr=0.001, numEpochs=10)\n",
        "print()\n",
        "\n",
        "print(\"Normal CNN\")\n",
        "print(\"---------------------------------------------------------------------------\\n\")\n",
        "runAblation(longerCNN(), batchSize=64, lr=0.001, numEpochs=10)\n",
        "print()\n"
      ],
      "metadata": {
        "colab": {
          "base_uri": "https://localhost:8080/",
          "height": 1000
        },
        "id": "IQRavdTP8SZA",
        "outputId": "9c51f338-86f4-4b70-90da-d1b86dc3887b"
      },
      "execution_count": 24,
      "outputs": [
        {
          "output_type": "stream",
          "name": "stdout",
          "text": [
            "Normal CNN\n",
            "---------------------------------------------------------------------------\n",
            "\n",
            "Files already downloaded and verified\n",
            "Files already downloaded and verified\n",
            "10\n",
            "Epoch [1/10], Loss: {:1.7837}\n",
            "Epoch [2/10], Loss: {:1.6859}\n",
            "Epoch [3/10], Loss: {:1.0254}\n",
            "Epoch [4/10], Loss: {:1.2549}\n",
            "Epoch [5/10], Loss: {:1.1294}\n",
            "Epoch [6/10], Loss: {:0.8849}\n",
            "Epoch [7/10], Loss: {:1.1021}\n",
            "Epoch [8/10], Loss: {:1.0476}\n",
            "Epoch [9/10], Loss: {:0.8619}\n",
            "Epoch [10/10], Loss: {:0.9776}\n"
          ]
        },
        {
          "output_type": "stream",
          "name": "stderr",
          "text": [
            "WARNING:matplotlib.image:Clipping input data to the valid range for imshow with RGB data ([0..1] for floats or [0..255] for integers).\n"
          ]
        },
        {
          "output_type": "stream",
          "name": "stdout",
          "text": [
            "Accuracy on 10000 training images: 63.660%\n",
            "F1 score for all classes:  [0.70469083 0.75221239 0.51502591 0.4257732  0.55263158 0.54128071\n",
            " 0.70604148 0.70210526 0.76064611 0.70273109]\n",
            "\n",
            "Time taken: 3.299092 minutes\n",
            "\n",
            "Feature maps: \n",
            "4 conv layers found:\n",
            "Conv2d(3, 32, kernel_size=(3, 3), stride=(1, 1))\n",
            "Conv2d(32, 32, kernel_size=(3, 3), stride=(1, 1))\n",
            "Conv2d(32, 64, kernel_size=(3, 3), stride=(1, 1))\n",
            "Conv2d(64, 64, kernel_size=(3, 3), stride=(1, 1))\n",
            "\n",
            "torch.Size([32, 32, 3])\n",
            "4 feature maps of the following shapes: \n",
            "torch.Size([1, 32, 30, 30])\n",
            "torch.Size([1, 32, 28, 28])\n",
            "torch.Size([1, 64, 26, 26])\n",
            "torch.Size([1, 64, 24, 24])\n",
            "\n",
            "Feature map shapes\n",
            "(30, 30)\n",
            "(28, 28)\n",
            "(26, 26)\n",
            "(24, 24)\n",
            "\n",
            "Short CNN\n",
            "---------------------------------------------------------------------------\n",
            "\n",
            "Files already downloaded and verified\n",
            "Files already downloaded and verified\n",
            "10\n"
          ]
        },
        {
          "output_type": "error",
          "ename": "RuntimeError",
          "evalue": "ignored",
          "traceback": [
            "\u001b[0;31m---------------------------------------------------------------------------\u001b[0m",
            "\u001b[0;31mRuntimeError\u001b[0m                              Traceback (most recent call last)",
            "\u001b[0;32m<ipython-input-24-301bb848e9cf>\u001b[0m in \u001b[0;36m<module>\u001b[0;34m\u001b[0m\n\u001b[1;32m      9\u001b[0m \u001b[0mprint\u001b[0m\u001b[0;34m(\u001b[0m\u001b[0;34m\"Short CNN\"\u001b[0m\u001b[0;34m)\u001b[0m\u001b[0;34m\u001b[0m\u001b[0;34m\u001b[0m\u001b[0m\n\u001b[1;32m     10\u001b[0m \u001b[0mprint\u001b[0m\u001b[0;34m(\u001b[0m\u001b[0;34m\"---------------------------------------------------------------------------\\n\"\u001b[0m\u001b[0;34m)\u001b[0m\u001b[0;34m\u001b[0m\u001b[0;34m\u001b[0m\u001b[0m\n\u001b[0;32m---> 11\u001b[0;31m \u001b[0mrunAblation\u001b[0m\u001b[0;34m(\u001b[0m\u001b[0mshortCNN\u001b[0m\u001b[0;34m(\u001b[0m\u001b[0;34m)\u001b[0m\u001b[0;34m,\u001b[0m \u001b[0mbatchSize\u001b[0m\u001b[0;34m=\u001b[0m\u001b[0;36m64\u001b[0m\u001b[0;34m,\u001b[0m \u001b[0mlr\u001b[0m\u001b[0;34m=\u001b[0m\u001b[0;36m0.001\u001b[0m\u001b[0;34m,\u001b[0m \u001b[0mnumEpochs\u001b[0m\u001b[0;34m=\u001b[0m\u001b[0;36m10\u001b[0m\u001b[0;34m)\u001b[0m\u001b[0;34m\u001b[0m\u001b[0;34m\u001b[0m\u001b[0m\n\u001b[0m\u001b[1;32m     12\u001b[0m \u001b[0mprint\u001b[0m\u001b[0;34m(\u001b[0m\u001b[0;34m)\u001b[0m\u001b[0;34m\u001b[0m\u001b[0;34m\u001b[0m\u001b[0m\n\u001b[1;32m     13\u001b[0m \u001b[0;34m\u001b[0m\u001b[0m\n",
            "\u001b[0;32m<ipython-input-15-4643ebd8a457>\u001b[0m in \u001b[0;36mrunAblation\u001b[0;34m(model, batchSize, lr, numEpochs)\u001b[0m\n\u001b[1;32m     60\u001b[0m \u001b[0;34m\u001b[0m\u001b[0m\n\u001b[1;32m     61\u001b[0m       \u001b[0;31m# forward\u001b[0m\u001b[0;34m\u001b[0m\u001b[0;34m\u001b[0m\u001b[0;34m\u001b[0m\u001b[0m\n\u001b[0;32m---> 62\u001b[0;31m       \u001b[0moutputs\u001b[0m \u001b[0;34m=\u001b[0m \u001b[0mmodel\u001b[0m\u001b[0;34m(\u001b[0m\u001b[0mimages\u001b[0m\u001b[0;34m)\u001b[0m\u001b[0;34m\u001b[0m\u001b[0;34m\u001b[0m\u001b[0m\n\u001b[0m\u001b[1;32m     63\u001b[0m       \u001b[0mloss\u001b[0m \u001b[0;34m=\u001b[0m \u001b[0mcriterion\u001b[0m\u001b[0;34m(\u001b[0m\u001b[0moutputs\u001b[0m\u001b[0;34m,\u001b[0m \u001b[0mlabels\u001b[0m\u001b[0;34m)\u001b[0m\u001b[0;34m\u001b[0m\u001b[0;34m\u001b[0m\u001b[0m\n\u001b[1;32m     64\u001b[0m \u001b[0;34m\u001b[0m\u001b[0m\n",
            "\u001b[0;32m/usr/local/lib/python3.8/dist-packages/torch/nn/modules/module.py\u001b[0m in \u001b[0;36m_call_impl\u001b[0;34m(self, *input, **kwargs)\u001b[0m\n\u001b[1;32m   1192\u001b[0m         if not (self._backward_hooks or self._forward_hooks or self._forward_pre_hooks or _global_backward_hooks\n\u001b[1;32m   1193\u001b[0m                 or _global_forward_hooks or _global_forward_pre_hooks):\n\u001b[0;32m-> 1194\u001b[0;31m             \u001b[0;32mreturn\u001b[0m \u001b[0mforward_call\u001b[0m\u001b[0;34m(\u001b[0m\u001b[0;34m*\u001b[0m\u001b[0minput\u001b[0m\u001b[0;34m,\u001b[0m \u001b[0;34m**\u001b[0m\u001b[0mkwargs\u001b[0m\u001b[0;34m)\u001b[0m\u001b[0;34m\u001b[0m\u001b[0;34m\u001b[0m\u001b[0m\n\u001b[0m\u001b[1;32m   1195\u001b[0m         \u001b[0;31m# Do not call functions when jit is used\u001b[0m\u001b[0;34m\u001b[0m\u001b[0;34m\u001b[0m\u001b[0;34m\u001b[0m\u001b[0m\n\u001b[1;32m   1196\u001b[0m         \u001b[0mfull_backward_hooks\u001b[0m\u001b[0;34m,\u001b[0m \u001b[0mnon_full_backward_hooks\u001b[0m \u001b[0;34m=\u001b[0m \u001b[0;34m[\u001b[0m\u001b[0;34m]\u001b[0m\u001b[0;34m,\u001b[0m \u001b[0;34m[\u001b[0m\u001b[0;34m]\u001b[0m\u001b[0;34m\u001b[0m\u001b[0;34m\u001b[0m\u001b[0m\n",
            "\u001b[0;32m<ipython-input-16-9b8a4316d6d5>\u001b[0m in \u001b[0;36mforward\u001b[0;34m(self, x)\u001b[0m\n\u001b[1;32m     96\u001b[0m     \u001b[0;31m# 64 X 1600\u001b[0m\u001b[0;34m\u001b[0m\u001b[0;34m\u001b[0m\u001b[0;34m\u001b[0m\u001b[0m\n\u001b[1;32m     97\u001b[0m \u001b[0;34m\u001b[0m\u001b[0m\n\u001b[0;32m---> 98\u001b[0;31m     \u001b[0mout\u001b[0m \u001b[0;34m=\u001b[0m \u001b[0mself\u001b[0m\u001b[0;34m.\u001b[0m\u001b[0mfc1\u001b[0m\u001b[0;34m(\u001b[0m\u001b[0mout\u001b[0m\u001b[0;34m)\u001b[0m\u001b[0;34m\u001b[0m\u001b[0;34m\u001b[0m\u001b[0m\n\u001b[0m\u001b[1;32m     99\u001b[0m     \u001b[0mout\u001b[0m \u001b[0;34m=\u001b[0m \u001b[0mself\u001b[0m\u001b[0;34m.\u001b[0m\u001b[0mrelu1\u001b[0m\u001b[0;34m(\u001b[0m\u001b[0mout\u001b[0m\u001b[0;34m)\u001b[0m\u001b[0;34m\u001b[0m\u001b[0;34m\u001b[0m\u001b[0m\n\u001b[1;32m    100\u001b[0m     \u001b[0mout\u001b[0m \u001b[0;34m=\u001b[0m \u001b[0mself\u001b[0m\u001b[0;34m.\u001b[0m\u001b[0mfc2\u001b[0m\u001b[0;34m(\u001b[0m\u001b[0mout\u001b[0m\u001b[0;34m)\u001b[0m\u001b[0;34m\u001b[0m\u001b[0;34m\u001b[0m\u001b[0m\n",
            "\u001b[0;32m/usr/local/lib/python3.8/dist-packages/torch/nn/modules/module.py\u001b[0m in \u001b[0;36m_call_impl\u001b[0;34m(self, *input, **kwargs)\u001b[0m\n\u001b[1;32m   1192\u001b[0m         if not (self._backward_hooks or self._forward_hooks or self._forward_pre_hooks or _global_backward_hooks\n\u001b[1;32m   1193\u001b[0m                 or _global_forward_hooks or _global_forward_pre_hooks):\n\u001b[0;32m-> 1194\u001b[0;31m             \u001b[0;32mreturn\u001b[0m \u001b[0mforward_call\u001b[0m\u001b[0;34m(\u001b[0m\u001b[0;34m*\u001b[0m\u001b[0minput\u001b[0m\u001b[0;34m,\u001b[0m \u001b[0;34m**\u001b[0m\u001b[0mkwargs\u001b[0m\u001b[0;34m)\u001b[0m\u001b[0;34m\u001b[0m\u001b[0;34m\u001b[0m\u001b[0m\n\u001b[0m\u001b[1;32m   1195\u001b[0m         \u001b[0;31m# Do not call functions when jit is used\u001b[0m\u001b[0;34m\u001b[0m\u001b[0;34m\u001b[0m\u001b[0;34m\u001b[0m\u001b[0m\n\u001b[1;32m   1196\u001b[0m         \u001b[0mfull_backward_hooks\u001b[0m\u001b[0;34m,\u001b[0m \u001b[0mnon_full_backward_hooks\u001b[0m \u001b[0;34m=\u001b[0m \u001b[0;34m[\u001b[0m\u001b[0;34m]\u001b[0m\u001b[0;34m,\u001b[0m \u001b[0;34m[\u001b[0m\u001b[0;34m]\u001b[0m\u001b[0;34m\u001b[0m\u001b[0;34m\u001b[0m\u001b[0m\n",
            "\u001b[0;32m/usr/local/lib/python3.8/dist-packages/torch/nn/modules/linear.py\u001b[0m in \u001b[0;36mforward\u001b[0;34m(self, input)\u001b[0m\n\u001b[1;32m    112\u001b[0m \u001b[0;34m\u001b[0m\u001b[0m\n\u001b[1;32m    113\u001b[0m     \u001b[0;32mdef\u001b[0m \u001b[0mforward\u001b[0m\u001b[0;34m(\u001b[0m\u001b[0mself\u001b[0m\u001b[0;34m,\u001b[0m \u001b[0minput\u001b[0m\u001b[0;34m:\u001b[0m \u001b[0mTensor\u001b[0m\u001b[0;34m)\u001b[0m \u001b[0;34m->\u001b[0m \u001b[0mTensor\u001b[0m\u001b[0;34m:\u001b[0m\u001b[0;34m\u001b[0m\u001b[0;34m\u001b[0m\u001b[0m\n\u001b[0;32m--> 114\u001b[0;31m         \u001b[0;32mreturn\u001b[0m \u001b[0mF\u001b[0m\u001b[0;34m.\u001b[0m\u001b[0mlinear\u001b[0m\u001b[0;34m(\u001b[0m\u001b[0minput\u001b[0m\u001b[0;34m,\u001b[0m \u001b[0mself\u001b[0m\u001b[0;34m.\u001b[0m\u001b[0mweight\u001b[0m\u001b[0;34m,\u001b[0m \u001b[0mself\u001b[0m\u001b[0;34m.\u001b[0m\u001b[0mbias\u001b[0m\u001b[0;34m)\u001b[0m\u001b[0;34m\u001b[0m\u001b[0;34m\u001b[0m\u001b[0m\n\u001b[0m\u001b[1;32m    115\u001b[0m \u001b[0;34m\u001b[0m\u001b[0m\n\u001b[1;32m    116\u001b[0m     \u001b[0;32mdef\u001b[0m \u001b[0mextra_repr\u001b[0m\u001b[0;34m(\u001b[0m\u001b[0mself\u001b[0m\u001b[0;34m)\u001b[0m \u001b[0;34m->\u001b[0m \u001b[0mstr\u001b[0m\u001b[0;34m:\u001b[0m\u001b[0;34m\u001b[0m\u001b[0;34m\u001b[0m\u001b[0m\n",
            "\u001b[0;31mRuntimeError\u001b[0m: mat1 and mat2 shapes cannot be multiplied (64x2304 and 1600x128)"
          ]
        },
        {
          "output_type": "display_data",
          "data": {
            "text/plain": [
              "<Figure size 432x288 with 1 Axes>"
            ],
            "image/png": "[encoded data removed]"
          },
          "metadata": {
            "needs_background": "light"
          }
        },
        {
          "output_type": "display_data",
          "data": {
            "text/plain": [
              "<Figure size 2160x3600 with 4 Axes>"
            ],
            "image/png": "[encoded data removed]"
          },
          "metadata": {
            "needs_background": "light"
          }
        }
      ]
    },
    {
      "cell_type": "code",
      "source": [
        "# conv filter size\n",
        "\n",
        "%matplotlib inline\n",
        "\n",
        "# num layers\n",
        "print(\"5x5 filter CNN\")\n",
        "print(\"---------------------------------------------------------------------------\\n\")\n",
        "runAblation(wideCNN(), batchSize=64, lr=0.001, numEpochs=10)\n",
        "print()\n",
        "\n",
        "print(\"7x7 filter CNN\")\n",
        "print(\"---------------------------------------------------------------------------\\n\")\n",
        "runAblation(hugeCNN(), batchSize=64, lr=0.001, numEpochs=10)\n",
        "print()\n",
        "\n",
        "print(\"Mixed filter size CNN\")\n",
        "print(\"---------------------------------------------------------------------------\\n\")\n",
        "runAblation(mixedCNN(), batchSize=64, lr=0.001, numEpochs=10)\n",
        "print()"
      ],
      "metadata": {
        "colab": {
          "base_uri": "https://localhost:8080/",
          "height": 487
        },
        "id": "JbgHVatRsvXL",
        "outputId": "0f121d53-f366-46d9-fe16-756f52c580eb"
      },
      "execution_count": 33,
      "outputs": [
        {
          "output_type": "stream",
          "name": "stdout",
          "text": [
            "5x5 filter CNN\n",
            "---------------------------------------------------------------------------\n",
            "\n",
            "Files already downloaded and verified\n",
            "Files already downloaded and verified\n",
            "10\n"
          ]
        },
        {
          "output_type": "error",
          "ename": "RuntimeError",
          "evalue": "ignored",
          "traceback": [
            "\u001b[0;31m---------------------------------------------------------------------------\u001b[0m",
            "\u001b[0;31mRuntimeError\u001b[0m                              Traceback (most recent call last)",
            "\u001b[0;32m<ipython-input-33-9ced59b922c1>\u001b[0m in \u001b[0;36m<module>\u001b[0;34m\u001b[0m\n\u001b[1;32m      4\u001b[0m \u001b[0mprint\u001b[0m\u001b[0;34m(\u001b[0m\u001b[0;34m\"5x5 filter CNN\"\u001b[0m\u001b[0;34m)\u001b[0m\u001b[0;34m\u001b[0m\u001b[0;34m\u001b[0m\u001b[0m\n\u001b[1;32m      5\u001b[0m \u001b[0mprint\u001b[0m\u001b[0;34m(\u001b[0m\u001b[0;34m\"---------------------------------------------------------------------------\\n\"\u001b[0m\u001b[0;34m)\u001b[0m\u001b[0;34m\u001b[0m\u001b[0;34m\u001b[0m\u001b[0m\n\u001b[0;32m----> 6\u001b[0;31m \u001b[0mrunAblation\u001b[0m\u001b[0;34m(\u001b[0m\u001b[0mwideCNN\u001b[0m\u001b[0;34m(\u001b[0m\u001b[0;34m)\u001b[0m\u001b[0;34m,\u001b[0m \u001b[0mbatchSize\u001b[0m\u001b[0;34m=\u001b[0m\u001b[0;36m64\u001b[0m\u001b[0;34m,\u001b[0m \u001b[0mlr\u001b[0m\u001b[0;34m=\u001b[0m\u001b[0;36m0.001\u001b[0m\u001b[0;34m,\u001b[0m \u001b[0mnumEpochs\u001b[0m\u001b[0;34m=\u001b[0m\u001b[0;36m10\u001b[0m\u001b[0;34m)\u001b[0m\u001b[0;34m\u001b[0m\u001b[0;34m\u001b[0m\u001b[0m\n\u001b[0m\u001b[1;32m      7\u001b[0m \u001b[0mprint\u001b[0m\u001b[0;34m(\u001b[0m\u001b[0;34m)\u001b[0m\u001b[0;34m\u001b[0m\u001b[0;34m\u001b[0m\u001b[0m\n\u001b[1;32m      8\u001b[0m \u001b[0;34m\u001b[0m\u001b[0m\n",
            "\u001b[0;32m<ipython-input-15-4643ebd8a457>\u001b[0m in \u001b[0;36mrunAblation\u001b[0;34m(model, batchSize, lr, numEpochs)\u001b[0m\n\u001b[1;32m     60\u001b[0m \u001b[0;34m\u001b[0m\u001b[0m\n\u001b[1;32m     61\u001b[0m       \u001b[0;31m# forward\u001b[0m\u001b[0;34m\u001b[0m\u001b[0;34m\u001b[0m\u001b[0;34m\u001b[0m\u001b[0m\n\u001b[0;32m---> 62\u001b[0;31m       \u001b[0moutputs\u001b[0m \u001b[0;34m=\u001b[0m \u001b[0mmodel\u001b[0m\u001b[0;34m(\u001b[0m\u001b[0mimages\u001b[0m\u001b[0;34m)\u001b[0m\u001b[0;34m\u001b[0m\u001b[0;34m\u001b[0m\u001b[0m\n\u001b[0m\u001b[1;32m     63\u001b[0m       \u001b[0mloss\u001b[0m \u001b[0;34m=\u001b[0m \u001b[0mcriterion\u001b[0m\u001b[0;34m(\u001b[0m\u001b[0moutputs\u001b[0m\u001b[0;34m,\u001b[0m \u001b[0mlabels\u001b[0m\u001b[0;34m)\u001b[0m\u001b[0;34m\u001b[0m\u001b[0;34m\u001b[0m\u001b[0m\n\u001b[1;32m     64\u001b[0m \u001b[0;34m\u001b[0m\u001b[0m\n",
            "\u001b[0;32m/usr/local/lib/python3.8/dist-packages/torch/nn/modules/module.py\u001b[0m in \u001b[0;36m_call_impl\u001b[0;34m(self, *input, **kwargs)\u001b[0m\n\u001b[1;32m   1192\u001b[0m         if not (self._backward_hooks or self._forward_hooks or self._forward_pre_hooks or _global_backward_hooks\n\u001b[1;32m   1193\u001b[0m                 or _global_forward_hooks or _global_forward_pre_hooks):\n\u001b[0;32m-> 1194\u001b[0;31m             \u001b[0;32mreturn\u001b[0m \u001b[0mforward_call\u001b[0m\u001b[0;34m(\u001b[0m\u001b[0;34m*\u001b[0m\u001b[0minput\u001b[0m\u001b[0;34m,\u001b[0m \u001b[0;34m**\u001b[0m\u001b[0mkwargs\u001b[0m\u001b[0;34m)\u001b[0m\u001b[0;34m\u001b[0m\u001b[0;34m\u001b[0m\u001b[0m\n\u001b[0m\u001b[1;32m   1195\u001b[0m         \u001b[0;31m# Do not call functions when jit is used\u001b[0m\u001b[0;34m\u001b[0m\u001b[0;34m\u001b[0m\u001b[0;34m\u001b[0m\u001b[0m\n\u001b[1;32m   1196\u001b[0m         \u001b[0mfull_backward_hooks\u001b[0m\u001b[0;34m,\u001b[0m \u001b[0mnon_full_backward_hooks\u001b[0m \u001b[0;34m=\u001b[0m \u001b[0;34m[\u001b[0m\u001b[0;34m]\u001b[0m\u001b[0;34m,\u001b[0m \u001b[0;34m[\u001b[0m\u001b[0;34m]\u001b[0m\u001b[0;34m\u001b[0m\u001b[0;34m\u001b[0m\u001b[0m\n",
            "\u001b[0;32m<ipython-input-17-cb75d3a707ec>\u001b[0m in \u001b[0;36mforward\u001b[0;34m(self, x)\u001b[0m\n\u001b[1;32m     43\u001b[0m     \u001b[0;31m# 64 X 1600\u001b[0m\u001b[0;34m\u001b[0m\u001b[0;34m\u001b[0m\u001b[0;34m\u001b[0m\u001b[0m\n\u001b[1;32m     44\u001b[0m \u001b[0;34m\u001b[0m\u001b[0m\n\u001b[0;32m---> 45\u001b[0;31m     \u001b[0mout\u001b[0m \u001b[0;34m=\u001b[0m \u001b[0mself\u001b[0m\u001b[0;34m.\u001b[0m\u001b[0mfc1\u001b[0m\u001b[0;34m(\u001b[0m\u001b[0mout\u001b[0m\u001b[0;34m)\u001b[0m\u001b[0;34m\u001b[0m\u001b[0;34m\u001b[0m\u001b[0m\n\u001b[0m\u001b[1;32m     46\u001b[0m     \u001b[0mout\u001b[0m \u001b[0;34m=\u001b[0m \u001b[0mself\u001b[0m\u001b[0;34m.\u001b[0m\u001b[0mrelu1\u001b[0m\u001b[0;34m(\u001b[0m\u001b[0mout\u001b[0m\u001b[0;34m)\u001b[0m\u001b[0;34m\u001b[0m\u001b[0;34m\u001b[0m\u001b[0m\n\u001b[1;32m     47\u001b[0m     \u001b[0mout\u001b[0m \u001b[0;34m=\u001b[0m \u001b[0mself\u001b[0m\u001b[0;34m.\u001b[0m\u001b[0mfc2\u001b[0m\u001b[0;34m(\u001b[0m\u001b[0mout\u001b[0m\u001b[0;34m)\u001b[0m\u001b[0;34m\u001b[0m\u001b[0;34m\u001b[0m\u001b[0m\n",
            "\u001b[0;32m/usr/local/lib/python3.8/dist-packages/torch/nn/modules/module.py\u001b[0m in \u001b[0;36m_call_impl\u001b[0;34m(self, *input, **kwargs)\u001b[0m\n\u001b[1;32m   1192\u001b[0m         if not (self._backward_hooks or self._forward_hooks or self._forward_pre_hooks or _global_backward_hooks\n\u001b[1;32m   1193\u001b[0m                 or _global_forward_hooks or _global_forward_pre_hooks):\n\u001b[0;32m-> 1194\u001b[0;31m             \u001b[0;32mreturn\u001b[0m \u001b[0mforward_call\u001b[0m\u001b[0;34m(\u001b[0m\u001b[0;34m*\u001b[0m\u001b[0minput\u001b[0m\u001b[0;34m,\u001b[0m \u001b[0;34m**\u001b[0m\u001b[0mkwargs\u001b[0m\u001b[0;34m)\u001b[0m\u001b[0;34m\u001b[0m\u001b[0;34m\u001b[0m\u001b[0m\n\u001b[0m\u001b[1;32m   1195\u001b[0m         \u001b[0;31m# Do not call functions when jit is used\u001b[0m\u001b[0;34m\u001b[0m\u001b[0;34m\u001b[0m\u001b[0;34m\u001b[0m\u001b[0m\n\u001b[1;32m   1196\u001b[0m         \u001b[0mfull_backward_hooks\u001b[0m\u001b[0;34m,\u001b[0m \u001b[0mnon_full_backward_hooks\u001b[0m \u001b[0;34m=\u001b[0m \u001b[0;34m[\u001b[0m\u001b[0;34m]\u001b[0m\u001b[0;34m,\u001b[0m \u001b[0;34m[\u001b[0m\u001b[0;34m]\u001b[0m\u001b[0;34m\u001b[0m\u001b[0;34m\u001b[0m\u001b[0m\n",
            "\u001b[0;32m/usr/local/lib/python3.8/dist-packages/torch/nn/modules/linear.py\u001b[0m in \u001b[0;36mforward\u001b[0;34m(self, input)\u001b[0m\n\u001b[1;32m    112\u001b[0m \u001b[0;34m\u001b[0m\u001b[0m\n\u001b[1;32m    113\u001b[0m     \u001b[0;32mdef\u001b[0m \u001b[0mforward\u001b[0m\u001b[0;34m(\u001b[0m\u001b[0mself\u001b[0m\u001b[0;34m,\u001b[0m \u001b[0minput\u001b[0m\u001b[0;34m:\u001b[0m \u001b[0mTensor\u001b[0m\u001b[0;34m)\u001b[0m \u001b[0;34m->\u001b[0m \u001b[0mTensor\u001b[0m\u001b[0;34m:\u001b[0m\u001b[0;34m\u001b[0m\u001b[0;34m\u001b[0m\u001b[0m\n\u001b[0;32m--> 114\u001b[0;31m         \u001b[0;32mreturn\u001b[0m \u001b[0mF\u001b[0m\u001b[0;34m.\u001b[0m\u001b[0mlinear\u001b[0m\u001b[0;34m(\u001b[0m\u001b[0minput\u001b[0m\u001b[0;34m,\u001b[0m \u001b[0mself\u001b[0m\u001b[0;34m.\u001b[0m\u001b[0mweight\u001b[0m\u001b[0;34m,\u001b[0m \u001b[0mself\u001b[0m\u001b[0;34m.\u001b[0m\u001b[0mbias\u001b[0m\u001b[0;34m)\u001b[0m\u001b[0;34m\u001b[0m\u001b[0;34m\u001b[0m\u001b[0m\n\u001b[0m\u001b[1;32m    115\u001b[0m \u001b[0;34m\u001b[0m\u001b[0m\n\u001b[1;32m    116\u001b[0m     \u001b[0;32mdef\u001b[0m \u001b[0mextra_repr\u001b[0m\u001b[0;34m(\u001b[0m\u001b[0mself\u001b[0m\u001b[0;34m)\u001b[0m \u001b[0;34m->\u001b[0m \u001b[0mstr\u001b[0m\u001b[0;34m:\u001b[0m\u001b[0;34m\u001b[0m\u001b[0;34m\u001b[0m\u001b[0m\n",
            "\u001b[0;31mRuntimeError\u001b[0m: mat1 and mat2 shapes cannot be multiplied (64x256 and 1600x128)"
          ]
        }
      ]
    },
    {
      "cell_type": "code",
      "source": [
        "# dropout layers\n",
        "\n",
        "print(\"Without dropout\")\n",
        "print(\"---------------------------------------------------------------------------\\n\")\n",
        "runAblation(CNN(), batchSize=64, lr=0.001, numEpochs=10)\n",
        "print()\n",
        "\n",
        "print(\"With dropout\")\n",
        "print(\"---------------------------------------------------------------------------\\n\")\n",
        "runAblation(dropoutCNN(), batchSize=64, lr=0.001, numEpochs=10)\n",
        "print()\n"
      ],
      "metadata": {
        "colab": {
          "base_uri": "https://localhost:8080/",
          "height": 1000
        },
        "id": "kEMwh7sCtL1H",
        "outputId": "49d9f223-7bad-492e-b436-fc4b8693ac53"
      },
      "execution_count": 34,
      "outputs": [
        {
          "output_type": "stream",
          "name": "stdout",
          "text": [
            "Without dropout\n",
            "---------------------------------------------------------------------------\n",
            "\n",
            "Files already downloaded and verified\n",
            "Files already downloaded and verified\n",
            "10\n",
            "Epoch [1/10], Loss: {:1.7079}\n",
            "Epoch [2/10], Loss: {:1.4965}\n",
            "Epoch [3/10], Loss: {:1.4797}\n",
            "Epoch [4/10], Loss: {:0.8173}\n",
            "Epoch [5/10], Loss: {:1.1078}\n",
            "Epoch [6/10], Loss: {:0.8132}\n",
            "Epoch [7/10], Loss: {:1.1975}\n",
            "Epoch [8/10], Loss: {:0.7400}\n",
            "Epoch [9/10], Loss: {:1.1907}\n",
            "Epoch [10/10], Loss: {:1.1005}\n"
          ]
        },
        {
          "output_type": "stream",
          "name": "stderr",
          "text": [
            "WARNING:matplotlib.image:Clipping input data to the valid range for imshow with RGB data ([0..1] for floats or [0..255] for integers).\n"
          ]
        },
        {
          "output_type": "stream",
          "name": "stdout",
          "text": [
            "Accuracy on 10000 training images: 64.030%\n",
            "F1 score for all classes:  [0.69047619 0.71951886 0.5250887  0.45776851 0.58829465 0.54318418\n",
            " 0.7277677  0.70612038 0.73952096 0.68614431]\n",
            "\n",
            "Time taken: 3.752415 minutes\n",
            "\n",
            "Feature maps: \n",
            "4 conv layers found:\n",
            "Conv2d(3, 32, kernel_size=(3, 3), stride=(1, 1))\n",
            "Conv2d(32, 32, kernel_size=(3, 3), stride=(1, 1))\n",
            "Conv2d(32, 64, kernel_size=(3, 3), stride=(1, 1))\n",
            "Conv2d(64, 64, kernel_size=(3, 3), stride=(1, 1))\n",
            "\n",
            "torch.Size([32, 32, 3])\n",
            "4 feature maps of the following shapes: \n",
            "torch.Size([1, 32, 30, 30])\n",
            "torch.Size([1, 32, 28, 28])\n",
            "torch.Size([1, 64, 26, 26])\n",
            "torch.Size([1, 64, 24, 24])\n",
            "\n",
            "Feature map shapes\n",
            "(30, 30)\n",
            "(28, 28)\n",
            "(26, 26)\n",
            "(24, 24)\n",
            "\n",
            "With dropout\n",
            "---------------------------------------------------------------------------\n",
            "\n",
            "Files already downloaded and verified\n",
            "Files already downloaded and verified\n",
            "10\n",
            "Epoch [1/10], Loss: {:1.7233}\n",
            "Epoch [2/10], Loss: {:1.7088}\n",
            "Epoch [3/10], Loss: {:1.3150}\n",
            "Epoch [4/10], Loss: {:1.2577}\n",
            "Epoch [5/10], Loss: {:1.3275}\n",
            "Epoch [6/10], Loss: {:0.8254}\n",
            "Epoch [7/10], Loss: {:1.9204}\n",
            "Epoch [8/10], Loss: {:1.6524}\n",
            "Epoch [9/10], Loss: {:1.1847}\n",
            "Epoch [10/10], Loss: {:1.0529}\n"
          ]
        },
        {
          "output_type": "stream",
          "name": "stderr",
          "text": [
            "WARNING:matplotlib.image:Clipping input data to the valid range for imshow with RGB data ([0..1] for floats or [0..255] for integers).\n"
          ]
        },
        {
          "output_type": "stream",
          "name": "stdout",
          "text": [
            "Accuracy on 10000 training images: 60.430%\n",
            "F1 score for all classes:  [0.62745098 0.72770398 0.47351351 0.41139896 0.5115493  0.52115385\n",
            " 0.6746988  0.66092245 0.70961804 0.6808933 ]\n",
            "\n",
            "Time taken: 3.771510 minutes\n",
            "\n",
            "Feature maps: \n",
            "4 conv layers found:\n",
            "Conv2d(3, 32, kernel_size=(3, 3), stride=(1, 1))\n",
            "Conv2d(32, 32, kernel_size=(3, 3), stride=(1, 1))\n",
            "Conv2d(32, 64, kernel_size=(3, 3), stride=(1, 1))\n",
            "Conv2d(64, 64, kernel_size=(3, 3), stride=(1, 1))\n",
            "\n",
            "torch.Size([32, 32, 3])\n",
            "4 feature maps of the following shapes: \n",
            "torch.Size([1, 32, 30, 30])\n",
            "torch.Size([1, 32, 28, 28])\n",
            "torch.Size([1, 64, 26, 26])\n",
            "torch.Size([1, 64, 24, 24])\n",
            "\n",
            "Feature map shapes\n",
            "(30, 30)\n",
            "(28, 28)\n",
            "(26, 26)\n",
            "(24, 24)\n",
            "\n"
          ]
        },
        {
          "output_type": "display_data",
          "data": {
            "text/plain": [
              "<Figure size 432x288 with 1 Axes>"
            ],
            "image/png": "[encoded data removed]"
          },
          "metadata": {
            "needs_background": "light"
          }
        },
        {
          "output_type": "display_data",
          "data": {
            "text/plain": [
              "<Figure size 2160x3600 with 4 Axes>"
            ],
            "image/png": "[encoded data removed]"
          },
          "metadata": {
            "needs_background": "light"
          }
        },
        {
          "output_type": "display_data",
          "data": {
            "text/plain": [
              "<Figure size 2160x3600 with 4 Axes>"
            ],
            "image/png": "[encoded data removed]"
          },
          "metadata": {
            "needs_background": "light"
          }
        }
      ]
    },
    {
      "cell_type": "code",
      "source": [
        "# vary hyper params\n",
        "\n",
        "# lr\n",
        "%matplotlib inline\n",
        "print(\"Higher lr\")\n",
        "print(\"---------------------------------------------------------------------------\\n\")\n",
        "runAblation(CNN(), batchSize=64, lr=0.002, numEpochs=10)\n",
        "print()\n",
        "\n",
        "print(\"Lower lr\")\n",
        "print(\"---------------------------------------------------------------------------\\n\")\n",
        "runAblation(CNN(), batchSize=64, lr=0.0005, numEpochs=10)\n",
        "print()\n",
        "\n",
        "print(\"Higher batchsize\")\n",
        "print(\"---------------------------------------------------------------------------\\n\")\n",
        "runAblation(CNN(), batchSize=128, lr=0.001, numEpochs=10)\n",
        "print()\n",
        "\n",
        "print(\"Lower batchsize\")\n",
        "print(\"---------------------------------------------------------------------------\\n\")\n",
        "runAblation(CNN(), batchSize=32, lr=0.001, numEpochs=10)\n",
        "print()\n",
        "\n",
        "\n",
        "print(\"Higher epochnum\")\n",
        "print(\"---------------------------------------------------------------------------\\n\")\n",
        "runAblation(CNN(), batchSize=64, lr=0.001, numEpochs=15)\n",
        "print()\n",
        "\n",
        "print(\"Lower epochnum\")\n",
        "print(\"---------------------------------------------------------------------------\\n\")\n",
        "runAblation(CNN(), batchSize=64, lr=0.001, numEpochs=5)\n",
        "print()"
      ],
      "metadata": {
        "colab": {
          "base_uri": "https://localhost:8080/"
        },
        "id": "ZKsc81J_tdR4",
        "outputId": "fd83dc57-4864-4021-bd2b-f6bfc0bb821c"
      },
      "execution_count": null,
      "outputs": [
        {
          "output_type": "stream",
          "name": "stdout",
          "text": [
            "Higher lr\n",
            "---------------------------------------------------------------------------\n",
            "\n",
            "Files already downloaded and verified\n",
            "Files already downloaded and verified\n",
            "10\n",
            "Epoch [1/10], Loss: {:1.3006}\n",
            "Epoch [2/10], Loss: {:2.0628}\n",
            "Epoch [3/10], Loss: {:1.3166}\n",
            "Epoch [4/10], Loss: {:1.4633}\n",
            "Epoch [5/10], Loss: {:1.1462}\n",
            "Epoch [6/10], Loss: {:0.7489}\n",
            "Epoch [7/10], Loss: {:0.9630}\n",
            "Epoch [8/10], Loss: {:0.9538}\n",
            "Epoch [9/10], Loss: {:0.3463}\n",
            "Epoch [10/10], Loss: {:0.5763}\n"
          ]
        },
        {
          "output_type": "stream",
          "name": "stderr",
          "text": [
            "WARNING:matplotlib.image:Clipping input data to the valid range for imshow with RGB data ([0..1] for floats or [0..255] for integers).\n"
          ]
        },
        {
          "output_type": "stream",
          "name": "stdout",
          "text": [
            "Accuracy on 10000 training images: 68.480%\n",
            "F1 score for all classes:  [0.72610837 0.80605487 0.58044164 0.50196464 0.63847981 0.56662934\n",
            " 0.77159881 0.72302905 0.79422023 0.74389551]\n",
            "\n",
            "Time taken: 3.587912 minutes\n",
            "\n",
            "Feature maps: \n",
            "4 conv layers found:\n",
            "Conv2d(3, 32, kernel_size=(3, 3), stride=(1, 1))\n",
            "Conv2d(32, 32, kernel_size=(3, 3), stride=(1, 1))\n",
            "Conv2d(32, 64, kernel_size=(3, 3), stride=(1, 1))\n",
            "Conv2d(64, 64, kernel_size=(3, 3), stride=(1, 1))\n",
            "\n",
            "torch.Size([32, 32, 3])\n",
            "4 feature maps of the following shapes: \n",
            "torch.Size([1, 32, 30, 30])\n",
            "torch.Size([1, 32, 28, 28])\n",
            "torch.Size([1, 64, 26, 26])\n",
            "torch.Size([1, 64, 24, 24])\n",
            "\n",
            "Feature map shapes\n",
            "(30, 30)\n",
            "(28, 28)\n",
            "(26, 26)\n",
            "(24, 24)\n",
            "\n",
            "Lower lr\n",
            "---------------------------------------------------------------------------\n",
            "\n",
            "Files already downloaded and verified\n",
            "Files already downloaded and verified\n",
            "10\n",
            "Epoch [1/10], Loss: {:1.9459}\n",
            "Epoch [2/10], Loss: {:1.5817}\n",
            "Epoch [3/10], Loss: {:1.7550}\n",
            "Epoch [4/10], Loss: {:1.4386}\n",
            "Epoch [5/10], Loss: {:1.2713}\n",
            "Epoch [6/10], Loss: {:1.4386}\n",
            "Epoch [7/10], Loss: {:1.5219}\n",
            "Epoch [8/10], Loss: {:0.7305}\n",
            "Epoch [9/10], Loss: {:1.5891}\n",
            "Epoch [10/10], Loss: {:1.2985}\n"
          ]
        },
        {
          "output_type": "stream",
          "name": "stderr",
          "text": [
            "WARNING:matplotlib.image:Clipping input data to the valid range for imshow with RGB data ([0..1] for floats or [0..255] for integers).\n"
          ]
        },
        {
          "output_type": "stream",
          "name": "stdout",
          "text": [
            "Accuracy on 10000 training images: 59.170%\n",
            "F1 score for all classes:  [0.65693431 0.70158103 0.46511628 0.43518519 0.46491763 0.48213333\n",
            " 0.64963504 0.6584976  0.71923077 0.64109848]\n",
            "\n",
            "Time taken: 3.518480 minutes\n",
            "\n",
            "Feature maps: \n",
            "4 conv layers found:\n",
            "Conv2d(3, 32, kernel_size=(3, 3), stride=(1, 1))\n",
            "Conv2d(32, 32, kernel_size=(3, 3), stride=(1, 1))\n",
            "Conv2d(32, 64, kernel_size=(3, 3), stride=(1, 1))\n",
            "Conv2d(64, 64, kernel_size=(3, 3), stride=(1, 1))\n",
            "\n",
            "torch.Size([32, 32, 3])\n",
            "4 feature maps of the following shapes: \n",
            "torch.Size([1, 32, 30, 30])\n",
            "torch.Size([1, 32, 28, 28])\n",
            "torch.Size([1, 64, 26, 26])\n",
            "torch.Size([1, 64, 24, 24])\n",
            "\n",
            "Feature map shapes\n",
            "(30, 30)\n",
            "(28, 28)\n",
            "(26, 26)\n",
            "(24, 24)\n",
            "\n",
            "Higher batchsize\n",
            "---------------------------------------------------------------------------\n",
            "\n",
            "Files already downloaded and verified\n",
            "Files already downloaded and verified\n",
            "10\n",
            "Epoch [1/10], Loss: {:1.8201}\n",
            "Epoch [2/10], Loss: {:1.7287}\n",
            "Epoch [3/10], Loss: {:1.3201}\n",
            "Epoch [4/10], Loss: {:1.4803}\n",
            "Epoch [5/10], Loss: {:1.0602}\n",
            "Epoch [6/10], Loss: {:1.2974}\n",
            "Epoch [7/10], Loss: {:1.0232}\n",
            "Epoch [8/10], Loss: {:1.2881}\n",
            "Epoch [9/10], Loss: {:1.3117}\n",
            "Epoch [10/10], Loss: {:1.0075}\n"
          ]
        },
        {
          "output_type": "stream",
          "name": "stderr",
          "text": [
            "WARNING:matplotlib.image:Clipping input data to the valid range for imshow with RGB data ([0..1] for floats or [0..255] for integers).\n"
          ]
        },
        {
          "output_type": "stream",
          "name": "stdout",
          "text": [
            "Accuracy on 10000 training images: 58.970%\n",
            "F1 score for all classes:  [0.65483871 0.7031333  0.4509915  0.42974492 0.50493506 0.44574096\n",
            " 0.68561119 0.64878543 0.71353919 0.63425513]\n",
            "\n",
            "Time taken: 3.336857 minutes\n",
            "\n",
            "Feature maps: \n",
            "4 conv layers found:\n",
            "Conv2d(3, 32, kernel_size=(3, 3), stride=(1, 1))\n",
            "Conv2d(32, 32, kernel_size=(3, 3), stride=(1, 1))\n",
            "Conv2d(32, 64, kernel_size=(3, 3), stride=(1, 1))\n",
            "Conv2d(64, 64, kernel_size=(3, 3), stride=(1, 1))\n",
            "\n",
            "torch.Size([32, 32, 3])\n",
            "4 feature maps of the following shapes: \n",
            "torch.Size([1, 32, 30, 30])\n",
            "torch.Size([1, 32, 28, 28])\n",
            "torch.Size([1, 64, 26, 26])\n",
            "torch.Size([1, 64, 24, 24])\n",
            "\n",
            "Feature map shapes\n",
            "(30, 30)\n",
            "(28, 28)\n",
            "(26, 26)\n",
            "(24, 24)\n",
            "\n",
            "Lower batchsize\n",
            "---------------------------------------------------------------------------\n",
            "\n",
            "Files already downloaded and verified\n",
            "Files already downloaded and verified\n",
            "10\n",
            "Epoch [1/10], Loss: {:1.2842}\n",
            "Epoch [2/10], Loss: {:0.8819}\n"
          ]
        }
      ]
    },
    {
      "cell_type": "code",
      "source": [
        "myconv1 = nn.Conv2d(in_channels=3, out_channels=32, kernel_size=5)\n",
        "myconv2 = nn.Conv2d(in_channels=32, out_channels=32, kernel_size=5)\n",
        "mymaxPool1 = nn.MaxPool2d(kernel_size=2, stride=2)\n",
        "myconv3 = nn.Conv2d(in_channels=32, out_channels=64, kernel_size=5)\n",
        "myconv4 = nn.Conv2d(in_channels=64, out_channels=64, kernel_size=5)\n",
        "mymaxPool2 = nn.MaxPool2d(kernel_size=2, stride=2)\n",
        "# myconv5 = nn.Conv2d(in_channels=48, out_channels=64, kernel_size=3) \n",
        "# myconv6 = nn.Conv2d(in_channels=64, out_channels=64, kernel_size=3)\n",
        "# mymaxPool3 = nn.MaxPool2d(kernel_size=2, stride=2)\n",
        "\n",
        "x = torch.randn(1,3,32,32)\n",
        "x = myconv1(x)\n",
        "x = myconv2(x)\n",
        "x = mymaxPool1(x)\n",
        "x = myconv3(x)\n",
        "x = myconv4(x)\n",
        "x = mymaxPool2(x)\n",
        "# x = myconv5(x)\n",
        "# x = myconv6(x)\n",
        "# x = mymaxPool3(x)\n",
        "x = x.view(x.size(0), -1)\n",
        "print(x.size())"
      ],
      "metadata": {
        "id": "GuUPTvwpt-Ke"
      },
      "execution_count": null,
      "outputs": []
    }
  ]
}